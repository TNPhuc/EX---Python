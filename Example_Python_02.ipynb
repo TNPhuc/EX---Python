{
 "cells": [
  {
   "cell_type": "markdown",
   "metadata": {},
   "source": [
    "1. List"
   ]
  },
  {
   "cell_type": "code",
   "execution_count": 7,
   "metadata": {},
   "outputs": [
    {
     "name": "stdout",
     "output_type": "stream",
     "text": [
      "['Now', 'we', 'are', 'cooking!']\n",
      "Now\n"
     ]
    },
    {
     "data": {
      "text/plain": [
       "['Now', 'we']"
      ]
     },
     "execution_count": 7,
     "metadata": {},
     "output_type": "execute_result"
    }
   ],
   "source": [
    "x = [\"Now\", \"we\", \"are\", \"cooking!\"]\n",
    "type(x)\n",
    "\n",
    "print(x)\n",
    "\n",
    "len(x)\n",
    "\n",
    "\"are\" in x\n",
    "\n",
    "print(x[0])\n",
    "\n",
    "x[1:3]\n",
    "\n",
    "x[:2]\n"
   ]
  },
  {
   "cell_type": "code",
   "execution_count": 8,
   "metadata": {},
   "outputs": [
    {
     "name": "stdout",
     "output_type": "stream",
     "text": [
      "lesson\n",
      "\n",
      "Now\n",
      "\n"
     ]
    }
   ],
   "source": [
    "\"\"\"Using the \"split\" string method from the preceding lesson, complete the get_word function to return the {n}th word from a passed sentence.\n",
    "For example, get_word(\"This is a lesson about lists\", 4) should return \"lesson\", which is the 4th word in this sentence. Hint: remember that\n",
    "list indexes start at 0, not 1. \n",
    "\"\"\"\n",
    "def get_word(sentence, n):\n",
    "    # Only proceed if n is positive \n",
    "    if n > 0:\n",
    "        words = sentence.split()\n",
    "        # Only proceed if n is not more than the number of words \n",
    "        if n <= len(words):\n",
    "            return words[n-1]\n",
    "    return \"\"\n",
    "\n",
    "print(get_word(\"This is a lesson about lists\", 4)) # Should print: lesson\n",
    "print(get_word(\"This is a lesson about lists\", -4)) # Nothing\n",
    "print(get_word(\"Now we are cooking!\", 1)) # Should print: Now\n",
    "print(get_word(\"Now we are cooking!\", 5)) # Nothing"
   ]
  },
  {
   "cell_type": "code",
   "execution_count": 20,
   "metadata": {},
   "outputs": [
    {
     "name": "stdout",
     "output_type": "stream",
     "text": [
      "['Pineapple', 'Banana', 'Apple', 'Melon', 'Kiwi']\n",
      "['Orange', 'Pineapple', 'Banana', 'Apple', 'Melon', 'Kiwi']\n",
      "['Orange', 'Pineapple', 'Banana', 'Apple', 'Melon', 'Kiwi', 'Peach']\n",
      "['Orange', 'Pineapple', 'Apple', 'Melon', 'Kiwi', 'Peach']\n",
      "['Orange', 'Pineapple', 'Apple', 'Kiwi', 'Peach']\n",
      "['Orange', 'Pineapple', 'StrongBown', 'Kiwi', 'Peach']\n"
     ]
    }
   ],
   "source": [
    "fruits = [\"Pineapple\", \"Banana\", \"Apple\", \"Melon\"]\n",
    "# Thêm phần tử\n",
    "fruits.append(\"Kiwi\")\n",
    "print(fruits)\n",
    "# Thêm phần tử vào vị trí nhất định\n",
    "fruits.insert(0, \"Orange\")\n",
    "print(fruits)\n",
    "fruits.insert(10, \"Peach\")\n",
    "print(fruits)\n",
    "# Xóa phần tử\n",
    "fruits.remove(\"Banana\")\n",
    "print(fruits)\n",
    "# Xóa phần tử ở vị trí nhất định\n",
    "fruits.pop(3)\n",
    "print(fruits)\n",
    "# Thay đổi phẩn tử ở vị trí nhất định\n",
    "fruits[2] = \"StrongBown\"\n",
    "print(fruits)\n"
   ]
  },
  {
   "cell_type": "code",
   "execution_count": 1,
   "metadata": {},
   "outputs": [
    {
     "name": "stdout",
     "output_type": "stream",
     "text": [
      "17.46\n",
      "0.48\n",
      "1.21\n"
     ]
    }
   ],
   "source": [
    "\"\"\"\n",
    "Let's use tuples to store information about a file: its name, its type and its size in bytes. Fill in the gaps in this code to return the size in kilobytes (a kilobyte is 1024 bytes)\n",
    "up to 2 decimal places. \n",
    "\"\"\"\n",
    "def file_size(file_info):\n",
    "\tname, type, size= file_info\n",
    "\treturn(\"{:.2f}\".format(size / 1024))\n",
    "\n",
    "print(file_size(('Class Assignment', 'docx', 17875))) # Should print 17.46\n",
    "print(file_size(('Notes', 'txt', 496))) # Should print 0.48\n",
    "print(file_size(('Program', 'py', 1239))) # Should print 1.21"
   ]
  },
  {
   "cell_type": "code",
   "execution_count": 3,
   "metadata": {},
   "outputs": [
    {
     "name": "stdout",
     "output_type": "stream",
     "text": [
      "Total characters: 22, Average length: 5.5\n"
     ]
    }
   ],
   "source": [
    "animals = [\"Lion\", \"Zebra\", \"Dolphin\", \"Monkey\"]\n",
    "chars = 0\n",
    "for animal in animals:\n",
    "    chars += len(animal)\n",
    "\n",
    "print(\"Total characters: {}, Average length: {}\".format(chars, chars/len(animals)))"
   ]
  },
  {
   "cell_type": "code",
   "execution_count": 4,
   "metadata": {},
   "outputs": [
    {
     "name": "stdout",
     "output_type": "stream",
     "text": [
      "1 - Ashley\n",
      "2 - dylan\n",
      "3 - Reese\n"
     ]
    }
   ],
   "source": [
    "winners = [\"Ashley\", \"dylan\", \"Reese\"]\n",
    "for index, person in enumerate(winners):\n",
    "    print(\"{} - {}\".format(index + 1, person))"
   ]
  },
  {
   "cell_type": "code",
   "execution_count": 5,
   "metadata": {},
   "outputs": [
    {
     "name": "stdout",
     "output_type": "stream",
     "text": [
      "['Alex Diego <alex@example.com>', 'Shay Brandt <shay@example.com>']\n"
     ]
    }
   ],
   "source": [
    "def full_emails(people):\n",
    "    result = []\n",
    "    for email, name in people:\n",
    "        result.append(\"{} <{}>\". format(name, email))\n",
    "    return result\n",
    "print(full_emails([(\"alex@example.com\", \"Alex Diego\"), (\"shay@example.com\", \"Shay Brandt\")]))"
   ]
  },
  {
   "cell_type": "code",
   "execution_count": 6,
   "metadata": {},
   "outputs": [
    {
     "name": "stdout",
     "output_type": "stream",
     "text": [
      "['a', 'c', 'e', 'g']\n",
      "['Orange', 'Strawberry', 'Peach']\n"
     ]
    }
   ],
   "source": [
    "\"\"\"\n",
    "Try out the enumerate function for yourself in this quick exercise. Complete the skip_elements function to return every other element from the list,\n",
    "this time using the enumerate function to check if an element is in an even position or an odd position.\n",
    "\"\"\"\n",
    "def skip_elements(elements):\n",
    "    # Initialize variables\n",
    "    new_list = []\n",
    "    # Iterate through the list\n",
    "    for index, element in enumerate(elements):\n",
    "        # Check if the element is in an even position\n",
    "        if index % 2 == 0:\n",
    "            # Add the element to the new list\n",
    "            new_list.append(element)\n",
    "    return new_list\n",
    "\n",
    "print(skip_elements([\"a\", \"b\", \"c\", \"d\", \"e\", \"f\", \"g\"])) # Should be ['a', 'c', 'e', 'g']\n",
    "print(skip_elements(['Orange', 'Pineapple', 'Strawberry', 'Kiwi', 'Peach'])) # Should be ['Orange', 'Strawberry', 'Peach']\n"
   ]
  },
  {
   "cell_type": "code",
   "execution_count": 9,
   "metadata": {},
   "outputs": [
    {
     "name": "stdout",
     "output_type": "stream",
     "text": [
      "[7, 14, 21, 28, 35, 42, 49, 56, 63, 70]\n",
      "[7, 14, 21, 28, 35, 42, 49, 56, 63, 70]\n"
     ]
    }
   ],
   "source": [
    "multiples = []\n",
    "for x in range (1, 11):\n",
    "    multiples.append(x*7)\n",
    "print(multiples)\n",
    "# Cach khac\n",
    "multiples = [x*7 for x in range (1,11)]\n",
    "print(multiples)"
   ]
  },
  {
   "cell_type": "code",
   "execution_count": 1,
   "metadata": {},
   "outputs": [
    {
     "name": "stdout",
     "output_type": "stream",
     "text": [
      "[1, 3, 5]\n",
      "[1, 3, 5, 7, 9]\n",
      "[1, 3, 5, 7, 9, 11]\n",
      "[1]\n",
      "[]\n"
     ]
    }
   ],
   "source": [
    "\"\"\"\n",
    "The odd_numbers function returns a list of odd numbers between 1 and n, inclusively. Fill in the blanks in the function, using list comprehension.\n",
    "Hint: remember that list and range counters start at 0 and end at the limit minus 1.\n",
    "\"\"\"\n",
    "def odd_numbers(n):\n",
    "    return [x for x in range(1, n+1) if x % 2 == 1]\n",
    "\n",
    "print(odd_numbers(5))  # Should print [1, 3, 5]\n",
    "print(odd_numbers(10)) # Should print [1, 3, 5, 7, 9]\n",
    "print(odd_numbers(11)) # Should print [1, 3, 5, 7, 9, 11]\n",
    "print(odd_numbers(1))  # Should print [1]\n",
    "print(odd_numbers(-1)) # Should print []\n"
   ]
  },
  {
   "cell_type": "code",
   "execution_count": 2,
   "metadata": {},
   "outputs": [
    {
     "name": "stdout",
     "output_type": "stream",
     "text": [
      "List comprehension result:\n",
      "[2, 4, 6, 8, 10, 12, 14, 16, 18, 20]\n",
      "Long form code result:\n",
      "[2, 4, 6, 8, 10, 12, 14, 16, 18, 20]\n"
     ]
    }
   ],
   "source": [
    "\"\"\"\n",
    "Ví dụ: [ x*2 for x in range(1,11) ] là cách hiểu danh sách đơn giản. Dòng mã đơn này lặp lại trên một phạm vi từ 1 đến 10,\n",
    "nhân mỗi phần tử trong phạm vi đó với 2 và tạo một danh sách mới từ tất cả các bội số của 2 từ 2 đến 20.\n",
    "\"\"\"\n",
    "### Simple List Comprehension\n",
    "print(\"List comprehension result:\")\n",
    "\n",
    "# The following list comprehension compacts several lines \n",
    "# of code into one line:\n",
    "print([x*2 for x in range(1,11)]) \n",
    "\n",
    "\n",
    "\n",
    "### Long form for loop\n",
    "print(\"Long form code result:\")\n",
    "\n",
    "# The list comprehension above accomplishes the same result as\n",
    "# the long form version of the code:\n",
    "my_list = []\n",
    "for x in range(1,11):\n",
    "   my_list.append(x*2)\n",
    "print(my_list)"
   ]
  },
  {
   "cell_type": "code",
   "execution_count": 3,
   "metadata": {},
   "outputs": [
    {
     "name": "stdout",
     "output_type": "stream",
     "text": [
      "List comprehension result:\n",
      "[10, 20, 30, 40, 50, 60, 70, 80, 90, 100]\n",
      "Long form code result:\n",
      "[10, 20, 30, 40, 50, 60, 70, 80, 90, 100]\n"
     ]
    }
   ],
   "source": [
    "\"\"\"\n",
    "Bạn cũng có thể sử dụng các câu điều kiện với khả năng hiểu danh sách để xây dựng các câu lệnh mạnh mẽ và phức tạp hơn nữa.\n",
    "Bạn có thể làm điều này bằng cách thêm câu lệnh if vào cuối phần hiểu danh sách. Ví dụ: [ x for x in range(1,101) if x % 10 == 0 ] tạo danh sách mới chứa tất cả các số nguyên chia hết cho 10\n",
    "từ 1 đến 100. Câu lệnh if đánh giá từng giá trị trong khoảng từ 1 đến 100 đến kiểm tra xem nó có chia hết cho 10 không. Nếu có, số đó sẽ được thêm vào một danh sách mới.\n",
    "\"\"\"\n",
    "### List Comprehension with Conditional Statement\n",
    "print(\"List comprehension result:\")\n",
    "\n",
    "# The following list comprehension compacts multiple lines \n",
    "# of code into one line:\n",
    "print([ x for x in range(1,101) if x % 10 == 0 ])\n",
    "\n",
    "### Long form for loop with nested if-statement\n",
    "print(\"Long form code result:\")\n",
    "\n",
    "# The list comprehension above accomplishes the same result as\n",
    "# the long form version of the code:\n",
    "my_list = []\n",
    "for x in range(1,101):\n",
    "  if x % 10 == 0:\n",
    "    my_list.append(x)\n",
    "print(my_list)"
   ]
  },
  {
   "cell_type": "code",
   "execution_count": null,
   "metadata": {},
   "outputs": [],
   "source": [
    "\"\"\"\n",
    "    len(sequence) - Trả về độ dài của dãy.\n",
    "\n",
    "    cho phần tử trong chuỗi - Lặp lại từng phần tử trong chuỗi.\n",
    "\n",
    "    nếu phần tử trong chuỗi - Kiểm tra xem phần tử có phải là một phần của chuỗi hay không.\n",
    "\n",
    "    Sequence[x] - Truy cập phần tử tại chỉ mục [x] của Sequence, bắt đầu từ 0\n",
    "\n",
    "    sequence[x:y] - Truy cập một slice bắt đầu từ chỉ mục [x], kết thúc tại chỉ mục [y-1]. Nếu [x] bị bỏ qua, chỉ mục sẽ bắt đầu từ 0 theo mặc định. Nếu [y] bị bỏ qua, len(sequence) sẽ đặt vị trí chỉ mục kết thúc theo mặc định.\n",
    "\n",
    "    for index, element in enumerate(sequence) - Lặp lại cả chỉ số và phần tử trong chuỗi cùng một lúc.\n",
    "\"\"\""
   ]
  },
  {
   "cell_type": "code",
   "execution_count": null,
   "metadata": {},
   "outputs": [],
   "source": [
    "\"\"\"\n",
    "    list[index] = x - Thay thế phần tử tại chỉ mục [n] bằng x.\n",
    "\n",
    "    list.append(x) - Nối x vào cuối danh sách.\n",
    "\n",
    "    list.insert(index, x) - Chèn x vào vị trí chỉ mục [index].\n",
    "\n",
    "    list.pop(index) - Trả về phần tử tại [index] và xóa nó khỏi danh sách. Nếu vị trí [chỉ mục] không có trong danh sách, phần tử cuối cùng trong danh sách sẽ được trả về và bị xóa.\n",
    "\n",
    "    list.remove(x) - Loại bỏ sự xuất hiện đầu tiên của x trong danh sách.\n",
    "\n",
    "    list.sort() - Sắp xếp các mục trong danh sách.\n",
    "\n",
    "    list.reverse() - Đảo ngược thứ tự các mục trong danh sách.\n",
    "\n",
    "    list.clear() - Xóa tất cả các mục trong danh sách.\n",
    "\n",
    "    list.copy() - Tạo một bản sao của danh sách.\n",
    "\n",
    "    list.extend(other_list) - Nối tất cả các phần tử của other_list vào cuối danh sách\n",
    "\"\"\""
   ]
  },
  {
   "cell_type": "code",
   "execution_count": 4,
   "metadata": {},
   "outputs": [
    {
     "name": "stdout",
     "output_type": "stream",
     "text": [
      "['January 2024', 'May 2025', 'April 2024', 'August 2024', 'September 2025', 'December 2024']\n"
     ]
    }
   ],
   "source": [
    "\"\"\"\n",
    "    Sử dụng vòng lặp for để sửa đổi các thành phần của danh sách.\n",
    "\n",
    "    Sử dụng phương thức list.append(old,new) .\n",
    "\n",
    "    Sử dụng các phương thức string.endswith() và string.replace() để sửa đổi các thành phần trong danh sách.\n",
    "\"\"\"\n",
    "# This block of code changes the year on a list of dates.\n",
    "# The \"years\" list is given with existing elements. \n",
    "years = [\"January 2023\", \"May 2025\", \"April 2023\", \"August 2024\", \"September 2025\", \"December 2023\"]\n",
    "\n",
    "\n",
    "# The variable \"updated_years\" is initialized as a list data type \n",
    "# using empty square brackets []. This list will hold the new list\n",
    "# with the updated years. \n",
    "updated_years = []\n",
    "\n",
    "# The for loop checks each \"year\" element in the list \"years\".\n",
    "for year in years:\n",
    "\n",
    "    # The if-statement checks if the \"year\" element ends with the \n",
    "    # substring \"2023\". \n",
    "    if year.endswith(\"2023\"):\n",
    "\n",
    "        # If True, then a temporary variable \"new\" will hold the \n",
    "        # modified \"year\" element where the \"2023\" substring is \n",
    "        # replaced with the substring \"2024\".\n",
    "        new = year.replace(\"2023\",\"2024\")\n",
    "\n",
    "        # Then, the list \"updated_years\" is appended with the changed\n",
    "        # element held in the temporary variable \"new\".\n",
    "        updated_years.append(new)\n",
    "        \n",
    "    # If False, the original \"year\" element will be appended to the \n",
    "    # the \"updated_years\" list unchanged.\n",
    "    else:\n",
    "        updated_years.append(year)\n",
    "\n",
    "\n",
    "print(updated_years) \n",
    "# Should print [\"January 2024\", \"May 2025\", \"April 2024\", \"August 2024\", \"September 2025\", \"December 2024\"]"
   ]
  },
  {
   "cell_type": "code",
   "execution_count": 5,
   "metadata": {},
   "outputs": [
    {
     "name": "stdout",
     "output_type": "stream",
     "text": [
      "[4, 9]\n",
      "[1, 4, 9, 16, 25]\n",
      "[0, 1, 4, 9, 16, 25, 36, 49, 64, 81, 100]\n"
     ]
    }
   ],
   "source": [
    "\"\"\"\n",
    "    Use a list comprehension to return values\n",
    "\"\"\"\n",
    "# This list comprehension creates a list of squared numbers (n*n). It\n",
    "# accepts two integer variables through the function’s parameters.\n",
    "def squares(start, end):\n",
    "    \n",
    "# The list comprehension calculates the square of a variable integer \n",
    "# \"n\", where \"n\" ranges from the \"start\" to \"end\" variables inclusively.\n",
    "# To be inclusive in a range(), add +1 to the end of range variable.\n",
    "    return [n*n for n in range(start,end+1)] \n",
    "\n",
    "\n",
    "print(squares(2, 3))  # Should print [4, 9]\n",
    "print(squares(1, 5))  # Should print [1, 4, 9, 16, 25]\n",
    "print(squares(0, 10)) # Should print [0, 1, 4, 9, 16, 25, 36, 49, 64, 81, 100]"
   ]
  },
  {
   "cell_type": "code",
   "execution_count": 6,
   "metadata": {},
   "outputs": [
    {
     "name": "stdout",
     "output_type": "stream",
     "text": [
      "['January 2024', 'May 2025', 'April 2024', 'August 2024', 'September 2025', 'December 2024']\n"
     ]
    }
   ],
   "source": [
    "\"\"\"\n",
    "    Use the string[index] method within a list comprehension.  \n",
    "\n",
    "    Use a list comprehension to modify elements of a list.\n",
    "\n",
    "    Use the string.replace() method within a list comprehension.\n",
    "\"\"\"\n",
    "# This block of code also changes the year on a list of dates using a\n",
    "# different approach than demonstrated in Skill Group 1. By using a \n",
    "# list comprehension, you can see how it is possible to refactor the\n",
    "# code to a shorter, more efficient code block. \n",
    "\n",
    "# The \"years\" list is given with existing elements.\n",
    "years = [\"January 2023\", \"May 2025\", \"April 2023\", \"August 2024\", \"September 2025\", \"December 2023\"]\n",
    "\n",
    "# The list comprehension below creates a new list \"updated_years\" to\n",
    "# hold the command to replace the \"2023\" substring of the \"year\"\n",
    "# element with the substring \"2024\". This action will be executed if\n",
    "# the last 4 indices of the \"year\" string is equal to the substring\n",
    "# \"2023\". If false (else), the \"year\" element will be included in the\n",
    "# new list \"updated_years\" unchanged.\n",
    "updated_years = [year.replace(\"2023\",\"2024\") if year[-4:] == \"2023\" else year for year in years]\n",
    "\n",
    "\n",
    "print(updated_years) \n",
    "# Should print [\"January 2024\", \"May 2025\", \"April 2024\", \"August 2024\", \"September 2025\", \"December 2024\"]"
   ]
  },
  {
   "cell_type": "code",
   "execution_count": 7,
   "metadata": {},
   "outputs": [
    {
     "name": "stdout",
     "output_type": "stream",
     "text": [
      "one-1 two-2 three-3 four-4 five-5 \n"
     ]
    }
   ],
   "source": [
    "\"\"\"\n",
    "    Sử dụng phương thức string.split() để tách một chuỗi thành một danh sách các từ riêng lẻ.\n",
    "\n",
    "    Lặp lại danh sách mới bằng vòng lặp for .\n",
    "\n",
    "    Sửa đổi từng phần tử trong danh sách bằng cách cắt chuỗi của phần tử tại vị trí chỉ mục [1:] đã cho và nối thêm chuỗi con vào cuối phần tử.\n",
    "\n",
    "    Chuyển đổi một danh sách trở lại thành một chuỗi.\n",
    "\"\"\"\n",
    "# This function splits a given string into a list of elements. Then, it\n",
    "# modifies each element by moving the first character to the end of the \n",
    "# element and adds a dash between the element and the moved character. \n",
    "# For example, the element \"2two\" will be changed to \"two-2\". Finally,\n",
    "# the function converts the list back to a string, and returns the\n",
    "# new string.\n",
    "def change_string(given_string):\n",
    "\n",
    "# Initialize \"new_string\" as a string data type by using empty quotes.\n",
    "    new_string = \"\"\n",
    "    # Split the \"given_string\" into a \"new_list\", with each \"element\"\n",
    "    # holding an individual word from the string.\n",
    "    new_list = given_string.split()\n",
    "\n",
    "    # The for loop iterates over each \"element\" in the \"new_list\".\n",
    "    for element in new_list:\n",
    "\n",
    "        # Convert the list into a \"new_string\" by using the assignment\n",
    "        # operator += to concatenate the following items: \n",
    "        # + Each list \"element\" (starting at index position [1:]), \n",
    "        # + a dash \"-\", \n",
    "        # + append the first character of the \"element\" (using the index \n",
    "        # [0]) to the end of the \"element\", and finally,\n",
    "        # + a space \" \" to separate each \"element\" in the \"new_string\".\n",
    "        new_string += element[1:] + \"-\"  + element[0] + \" \"\n",
    "\n",
    "    # Return the list that has been converted back into a string.\n",
    "    return new_string\n",
    "\n",
    "\n",
    "print(change_string(\"1one 2two 3three 4four 5five\")) \n",
    "# Should print \"one-1 two-2 three-3 four-4 five-5\"  "
   ]
  },
  {
   "cell_type": "code",
   "execution_count": 8,
   "metadata": {},
   "outputs": [
    {
     "name": "stdout",
     "output_type": "stream",
     "text": [
      "The Printers list includes: Color Printer, Black and White Printer, 3-D Printer\n"
     ]
    }
   ],
   "source": [
    "# Use the string.join() method to concatenate a string that provides a list name and its elements  \n",
    "# This function accepts a list name and a list of elements, and returns\n",
    "# a string with the format: \"The \"list_name\" list includes: element1, \n",
    "# element2, element3\". \n",
    "def list_elements(list_name, elements):\n",
    "\n",
    "    # This task can be completed in a single line of code. The \n",
    "    # concatenation of strings, \"list_name\", and the list \"elements\" can\n",
    "    # occur on the return line. In this case, the string \"The \" is added \n",
    "    # to the \"list_name\", plus the string \" list includes: \", then the\n",
    "    # \"elements\" are joined using a comma to separate each element of the \n",
    "    # list.\n",
    "    return \"The \" + list_name + \" list includes: \" + \", \".join(elements)\n",
    "\n",
    "\n",
    "print(list_elements(\"Printers\", [\"Color Printer\", \"Black and White Printer\", \"3-D Printer\"])) \n",
    "# Should print \"The Printers list includes: Color Printer, Black and White Printer, 3-D Printer\""
   ]
  },
  {
   "cell_type": "code",
   "execution_count": 9,
   "metadata": {},
   "outputs": [
    {
     "name": "stdout",
     "output_type": "stream",
     "text": [
      "['program.c', 'stdio.h', 'sample.h', 'a.out', 'math.h', 'hpp.out']\n"
     ]
    }
   ],
   "source": [
    "filenames = [\"program.c\", \"stdio.hpp\", \"sample.hpp\", \"a.out\", \"math.hpp\", \"hpp.out\"]\n",
    "# Generate newfilenames as a list containing the new filenames\n",
    "# using as many lines of code as your chosen method requires.\n",
    "newfilenames = []\n",
    "for file in filenames:\n",
    "  if '.hpp' in file:\n",
    "    newfilenames.append((file[:-2]))\n",
    "  else:\n",
    "    newfilenames.append((file))  \n",
    "\n",
    "print(newfilenames) \n",
    "# Should be [\"program.c\", \"stdio.h\", \"sample.h\", \"a.out\", \"math.h\", \"hpp.out\"]"
   ]
  },
  {
   "cell_type": "code",
   "execution_count": 10,
   "metadata": {},
   "outputs": [
    {
     "name": "stdout",
     "output_type": "stream",
     "text": [
      "ellohay owhay reaay ouyay\n",
      "rogrammingpay niay ythonpay siay unfay\n"
     ]
    }
   ],
   "source": [
    "def pig_latin(text):\n",
    "  say = \"\"\n",
    "  # Separate the text into words\n",
    "  words = text.split()\n",
    "  for word in words:\n",
    "    # Create the pig latin word and add it to the list\n",
    "    say += word[1:]+word[0]+'ay'\n",
    "    if word != words[len(words)-1]:\n",
    "      say +=' '\n",
    "    # Turn the list back into a phrase\n",
    "  return say\n",
    "\t\t\n",
    "print(pig_latin(\"hello how are you\")) # Should be \"ellohay owhay reaay ouyay\"\n",
    "print(pig_latin(\"programming in python is fun\")) # Should be \"rogrammingpay niay ythonpay siay unfay\""
   ]
  },
  {
   "cell_type": "code",
   "execution_count": 11,
   "metadata": {},
   "outputs": [
    {
     "name": "stdout",
     "output_type": "stream",
     "text": [
      "Marketing: Mike, Karen, Jake, Tasha\n",
      "Engineering: Kim, Jay, Tom\n",
      "Users: \n"
     ]
    }
   ],
   "source": [
    "def group_list(group, users):\n",
    "    members = \", \".join(users)\n",
    "    return \"{}: {}\".format(group, members)\n",
    "\n",
    "print(group_list(\"Marketing\", [\"Mike\", \"Karen\", \"Jake\", \"Tasha\"])) # Should be \"Marketing: Mike, Karen, Jake, Tasha\"\n",
    "print(group_list(\"Engineering\", [\"Kim\", \"Jay\", \"Tom\"])) # Should be \"Engineering: Kim, Jay, Tom\"\n",
    "print(group_list(\"Users\", \"\")) # Should be \"Users:\"\n"
   ]
  },
  {
   "cell_type": "code",
   "execution_count": 12,
   "metadata": {},
   "outputs": [
    {
     "name": "stdout",
     "output_type": "stream",
     "text": [
      "Ken is 30 years old and works as Chef\n",
      "Pat is 35 years old and works as Lawyer\n",
      "Amanda is 25 years old and works as Engineer\n"
     ]
    }
   ],
   "source": [
    "def guest_list(guests):\n",
    "    for guest in guests:\n",
    "        name, age, profession = guest\n",
    "        print(\"{} is {} years old and works as {}\".format(name, age, profession))\n",
    "\n",
    "guest_list([('Ken', 30, \"Chef\"), (\"Pat\", 35, 'Lawyer'), ('Amanda', 25, \"Engineer\")])\n"
   ]
  },
  {
   "cell_type": "markdown",
   "metadata": {},
   "source": [
    "2. Dictionary"
   ]
  },
  {
   "cell_type": "code",
   "execution_count": 2,
   "metadata": {},
   "outputs": [
    {
     "name": "stdout",
     "output_type": "stream",
     "text": [
      "{'jpg': 10, 'txt': 14, 'csv': 2, 'py': 23}\n"
     ]
    },
    {
     "data": {
      "text/plain": [
       "14"
      ]
     },
     "execution_count": 2,
     "metadata": {},
     "output_type": "execute_result"
    }
   ],
   "source": [
    "file_counts = {\"jpg\":10, \"txt\":14, \"csv\":2, \"py\":23}\n",
    "print(file_counts)\n",
    "\n",
    "file_counts[\"txt\"]"
   ]
  },
  {
   "cell_type": "code",
   "execution_count": 5,
   "metadata": {},
   "outputs": [
    {
     "name": "stdout",
     "output_type": "stream",
     "text": [
      "{'jpg': 10, 'txt': 14, 'csv': 2, 'py': 23}\n",
      "{'jpg': 10, 'txt': 14, 'csv': 2, 'py': 23, 'cfg': 8}\n",
      "{'jpg': 10, 'txt': 14, 'csv': 18, 'py': 23, 'cfg': 8}\n",
      "{'jpg': 10, 'csv': 18, 'py': 23, 'cfg': 8}\n"
     ]
    }
   ],
   "source": [
    "file_counts = {\"jpg\":10, \"txt\":14, \"csv\":2, \"py\":23}\n",
    "print(file_counts)\n",
    "# Them key\n",
    "file_counts[\"cfg\"] = 8\n",
    "print(file_counts)\n",
    "# Sua key\n",
    "file_counts[\"csv\"] = 18\n",
    "print(file_counts)\n",
    "# Xoa key\n",
    "del file_counts[\"txt\"]\n",
    "print(file_counts)"
   ]
  },
  {
   "cell_type": "code",
   "execution_count": 6,
   "metadata": {},
   "outputs": [
    {
     "name": "stdout",
     "output_type": "stream",
     "text": [
      "jpg\n",
      "txt\n",
      "csv\n",
      "py\n"
     ]
    }
   ],
   "source": [
    "file_counts = {\"jpg\":10, \"txt\":14, \"csv\":2, \"py\":23}\n",
    "for extension in file_counts:\n",
    "    print(extension)"
   ]
  },
  {
   "cell_type": "code",
   "execution_count": 7,
   "metadata": {},
   "outputs": [
    {
     "name": "stdout",
     "output_type": "stream",
     "text": [
      "There are 10 files with the .jpg extension\n",
      "There are 14 files with the .txt extension\n",
      "There are 2 files with the .csv extension\n",
      "There are 23 files with the .py extension\n"
     ]
    }
   ],
   "source": [
    "file_counts = {\"jpg\":10, \"txt\":14, \"csv\":2, \"py\":23}\n",
    "for ext, amount in file_counts.items():\n",
    "    print(\"There are {} files with the .{} extension\".format(amount, ext))"
   ]
  },
  {
   "cell_type": "code",
   "execution_count": 8,
   "metadata": {},
   "outputs": [
    {
     "data": {
      "text/plain": [
       "dict_values([10, 14, 2, 23])"
      ]
     },
     "execution_count": 8,
     "metadata": {},
     "output_type": "execute_result"
    }
   ],
   "source": [
    "file_counts = {\"jpg\":10, \"txt\":14, \"csv\":2, \"py\":23}\n",
    "file_counts.keys()\n",
    "file_counts.values()"
   ]
  },
  {
   "cell_type": "code",
   "execution_count": 9,
   "metadata": {},
   "outputs": [
    {
     "name": "stdout",
     "output_type": "stream",
     "text": [
      "10\n",
      "14\n",
      "2\n",
      "23\n"
     ]
    }
   ],
   "source": [
    "file_counts = {\"jpg\":10, \"txt\":14, \"csv\":2, \"py\":23}\n",
    "for value in file_counts.values():\n",
    "    print(value)"
   ]
  },
  {
   "cell_type": "code",
   "execution_count": 11,
   "metadata": {},
   "outputs": [
    {
     "data": {
      "text/plain": [
       "{'t': 2, 'e': 1, 'n': 2, 'a': 1}"
      ]
     },
     "execution_count": 11,
     "metadata": {},
     "output_type": "execute_result"
    }
   ],
   "source": [
    "def count_letters(text):\n",
    "    result = {}\n",
    "    for letter in text:\n",
    "        if letter not in result:\n",
    "            result[letter] = 0\n",
    "        result[letter] += 1\n",
    "    return result\n",
    "\n",
    "count_letters(\"aaaaa\")\n",
    "count_letters(\"tenant\")"
   ]
  },
  {
   "cell_type": "code",
   "execution_count": 13,
   "metadata": {},
   "outputs": [
    {
     "name": "stdout",
     "output_type": "stream",
     "text": [
      "23.1\n"
     ]
    }
   ],
   "source": [
    "# This function returns the total time, with minutes represented as \n",
    "# decimals (example: 1 hour 30 minutes = 1.5), for all end user time\n",
    "# spent accessing a server in a given day. \n",
    "\n",
    "\n",
    "def sum_server_use_time(Server):\n",
    "\n",
    "    # Initialize the variable as a float data type, which will be used\n",
    "    # to hold the sum of the total hours and minutes of server usage by\n",
    "    # end users in a day.\n",
    "    total_use_time = 0.0\n",
    "\n",
    "    # Iterate through the \"Server\" dictionary’s key and value items \n",
    "    # using a for loop.\n",
    "    for key,value in Server.items():\n",
    "\n",
    "        # For each end user key, add the associated time value to the\n",
    "        # total sum of all end user use time.\n",
    "        total_use_time += Server[key]\n",
    "        \n",
    "    # Round the return value and limit to 2 decimal places.\n",
    "    return round(total_use_time, 2)  \n",
    "\n",
    "FileServer = {\"EndUser1\": 5.25, \"EndUser2\": 4.5, \"EndUser3\": 1, \"EndUser4\": 3.75, \"EndUser5\": 0.6, \"EndUser6\": 8}\n",
    "\n",
    "print(sum_server_use_time(FileServer)) # Should print 20.1"
   ]
  },
  {
   "cell_type": "code",
   "execution_count": 14,
   "metadata": {},
   "outputs": [
    {
     "name": "stdout",
     "output_type": "stream",
     "text": [
      "['Muhammad Ali', 'Amir Ali', 'Malik Ali', 'Ram Devi', 'Amaira Devi', 'Feng Chen', 'Li Chen']\n"
     ]
    }
   ],
   "source": [
    "# This function receives a dictionary, which contains common employee \n",
    "# last names as keys, and a list of employee first names as values. \n",
    "# The function generates a new list that contains each employees’ full\n",
    "# name (First_name Last_Name). For example, the key \"Garcia\" with the \n",
    "# values [\"Maria\", \"Hugo\", \"Lucia\"] should be converted to a list \n",
    "# that contains [\"Maria Garcia\", \"Hugo Garcia\", \"Lucia Garcia\"].\n",
    "\n",
    "\n",
    "def list_full_names(employee_dictionary):\n",
    "    # Initialize the \"full_names\" variable as a list data type using\n",
    "    # empty [] square brackets.  \n",
    "    full_names = []\n",
    "\n",
    "    # The outer for loop iterates through each \"last_name\" key and \n",
    "    # associated \"first_name\" values, in the \"employee_dictionary\" items.\n",
    "    for last_name, first_names in employee_dictionary.items():\n",
    "\n",
    "        # The inner for loop iterates over each \"first_name\" value in \n",
    "        # the list of \"first_names\" for one \"last_name\" key at a time.\n",
    "        for first_name in first_names:\n",
    "\n",
    "            # Append the new \"full_names\" list with the \"first_name\" value\n",
    "            # concatenated with a space \" \", and the key \"last_name\". \n",
    "            full_names.append(first_name+\" \"+last_name)\n",
    "            \n",
    "    # Return the new \"full_names\" list once the outer for loop has \n",
    "    # completed all iterations. \n",
    "    return(full_names)\n",
    "\n",
    "\n",
    "print(list_full_names({\"Ali\": [\"Muhammad\", \"Amir\", \"Malik\"], \"Devi\": [\"Ram\", \"Amaira\"], \"Chen\": [\"Feng\", \"Li\"]}))\n",
    "# Should print ['Muhammad Ali', 'Amir Ali', 'Malik Ali', 'Ram Devi', 'Amaira Devi', 'Feng Chen', 'Li Chen']\n"
   ]
  },
  {
   "cell_type": "code",
   "execution_count": 15,
   "metadata": {},
   "outputs": [
    {
     "name": "stdout",
     "output_type": "stream",
     "text": [
      "{'IDE HDDs': ['Hard Drives', 'PC Parts'], 'SCSI HDDs': ['Hard Drives', 'PC Parts'], 'High-end video cards': ['PC Parts', 'Video Cards'], 'Basic video cards': ['PC Parts', 'Video Cards']}\n"
     ]
    }
   ],
   "source": [
    "# This function receives a dictionary, which contains resource \n",
    "# categories (keys) with a list of available resources (values) for a \n",
    "# company’s IT Department. The resources belong to multiple categories.\n",
    "# The function should reverse the keys and values to show which \n",
    "# categories (values) each resource (key) belongs to. \n",
    "\n",
    "\n",
    "def invert_resource_dict(resource_dictionary):\n",
    "  # Initialize a \"new_dictionary\" variable as a dict data type using\n",
    "  # empty {} curly brackets. \n",
    "    new_dictionary = {}\n",
    "    # The outer for loop iterates through each \"resource_group\" and \n",
    "    # associated \"resources\" in the \"resource_dictionary\" items.\n",
    "    for resource_group, resources in resource_dictionary.items():\n",
    "        # The inner for loop iterates over each \"resource\" value in \n",
    "        # the list of \"resources\" for one \"resource_group\" key at a time.\n",
    "        for resource in resources:\n",
    "            # The if-statement checks if the current \"resource\" value has \n",
    "            # been appended as a key to the \"new_dictionary\" yet.\n",
    "            if resource in new_dictionary:\n",
    "                # If True, then append the \"resource_group\" as a value to the\n",
    "                # \"resource\", which is now the key.\n",
    "                new_dictionary[resource].append(resource_group)\n",
    "            # If False (else), then add the \"resource\" as a new key with the \n",
    "            # \"resource_group\" as a value for that key.\n",
    "            else:\n",
    "                new_dictionary[resource] = [resource_group]\n",
    "    # Return the new dictionary once the outer for loop has completed  \n",
    "    # all iterations.\n",
    "    return(new_dictionary)\n",
    "\n",
    "\n",
    "print(invert_resource_dict({\"Hard Drives\": [\"IDE HDDs\", \"SCSI HDDs\"],\n",
    "        \"PC Parts\":  [\"IDE HDDs\", \"SCSI HDDs\", \"High-end video cards\", \"Basic video cards\"], \"Video Cards\": [\"High-end video cards\", \"Basic video cards\"]}))\n",
    "# Should print {'IDE HDDs': ['Hard Drives', 'PC Parts'], 'SCSI HDDs': ['Hard Drives', 'PC Parts'], 'High-end video cards': ['PC Parts', 'Video Cards'], 'Basic video cards': ['PC Parts', 'Video Cards']}\n"
   ]
  },
  {
   "cell_type": "code",
   "execution_count": 16,
   "metadata": {},
   "outputs": [
    {
     "name": "stdout",
     "output_type": "stream",
     "text": [
      "['clark.kent@gmail.com', 'diana.prince@gmail.com', 'peter.parker@gmail.com', 'barbara.gordon@yahoo.com', 'jean.grey@yahoo.com', 'bruce.wayne@hotmail.com']\n"
     ]
    }
   ],
   "source": [
    "def email_list(domains):\n",
    "    emails = []\n",
    "    for domain, users in domains.items():\n",
    "        for user in users:\n",
    "            emails.append(user + '@' + domain)\n",
    "    return emails\n",
    "\n",
    "print(email_list({\"gmail.com\": [\"clark.kent\", \"diana.prince\", \"peter.parker\"], \"yahoo.com\": [\"barbara.gordon\", \"jean.grey\"], \"hotmail.com\": [\"bruce.wayne\"]}))\n"
   ]
  },
  {
   "cell_type": "code",
   "execution_count": 19,
   "metadata": {},
   "outputs": [
    {
     "name": "stdout",
     "output_type": "stream",
     "text": [
      "{'admin': ['local', 'public', 'administrator'], 'userA': ['local'], 'userB': ['public']}\n"
     ]
    }
   ],
   "source": [
    "def groups_per_user(group_dictionary):\n",
    "    user_groups = {}\n",
    "    # Go through group_dictionary\n",
    "    for group in group_dictionary.keys():\n",
    "        # Now go through the users in the group\n",
    "        for user in group_dictionary[group]:\n",
    "            if user in user_groups:\n",
    "                user_groups[user].append(group)\n",
    "            else:\n",
    "                user_groups[user] = [group]\n",
    "    return user_groups\n",
    "\n",
    "print(groups_per_user({\"local\": [\"admin\", \"userA\"],\n",
    "                       \"public\":  [\"admin\", \"userB\"],\n",
    "                       \"administrator\": [\"admin\"]}))\n"
   ]
  },
  {
   "cell_type": "code",
   "execution_count": 18,
   "metadata": {},
   "outputs": [
    {
     "name": "stdout",
     "output_type": "stream",
     "text": [
      "28.44\n"
     ]
    }
   ],
   "source": [
    "def add_prices(basket):\n",
    "    # Initialize the variable that will be used for the calculation\n",
    "    total = 0\n",
    "    # Iterate through the dictionary items\n",
    "    for price in basket.values():\n",
    "        # Add each price to the total calculation\n",
    "        total += price\n",
    "    # Limit the return value to 2 decimal places\n",
    "    return round(total, 2)\n",
    "\n",
    "groceries = {\"bananas\": 1.56, \"apples\": 2.50, \"oranges\": 0.99, \"bread\": 4.59, \n",
    "             \"coffee\": 6.99, \"milk\": 3.39, \"eggs\": 2.98, \"cheese\": 5.44}\n",
    "\n",
    "print(add_prices(groceries))  # Should print 28.44\n"
   ]
  },
  {
   "cell_type": "markdown",
   "metadata": {},
   "source": [
    "Skill 1: Using string methods"
   ]
  },
  {
   "cell_type": "code",
   "execution_count": 20,
   "metadata": {},
   "outputs": [
    {
     "name": "stdout",
     "output_type": "stream",
     "text": [
      "Winter fleece jackets are on sale for $49.99\n"
     ]
    },
    {
     "data": {
      "text/plain": [
       "9"
      ]
     },
     "execution_count": 20,
     "metadata": {},
     "output_type": "execute_result"
    }
   ],
   "source": [
    "\"\"\"\n",
    "    Separate numerical values from text values in a string using .split(). \n",
    "\n",
    "    Iterate over the elements in a string.\n",
    "\n",
    "    Test if the element contains letters with .isalpha().\n",
    "\n",
    "    Assign the elements of the split string to new variables.\n",
    "\n",
    "    Trim any extra white space using .strip().\n",
    "\n",
    "    Format a string using .format() and { } variable placeholders.\n",
    "\"\"\"\n",
    "def sales_prices(item_and_price):\n",
    "    # Initialize variables \"item\" and \"price\" as strings\n",
    "    item = \"\"\n",
    "    price = \"\"\n",
    "    # Create a variable \"item_or_price\" to hold the result of the split. \n",
    "    item_or_price = item_and_price.split()\n",
    "\n",
    "    # For each element \"x\" in the split variable \"item_or_price\" \n",
    "    for x in item_or_price:\n",
    "\n",
    "        # Check if the element is a number\n",
    "        if x.isalpha():\n",
    "\n",
    "            # If true, assign the element to the \"item\" string variable and add a space \n",
    "            # for any item names containing multiple words, like \"Winter fleece jacket\".\n",
    "            item += x + \" \"\n",
    "\n",
    "        # Else, if x is a number (if x.isalpha() is false): \n",
    "        else:\n",
    "            # Assign the element to the \"price\" string variable. \n",
    "            price = x\n",
    "\n",
    "    # Strip the extra space to the right of the last \"item\" word\n",
    "    item = item.strip()\n",
    "\n",
    "    # Return the item name and price formatted in a sentence \n",
    "    return \"{} are on sale for ${}\".format(item,price)\n",
    "\n",
    "\n",
    "# Call to the function \n",
    "print(sales_prices(\"Winter fleece jackets 49.99\"))\n",
    "# Should print \"Winter fleece jackets are on sale for $49.99\"\n",
    "\n",
    "    # Use the len() function to measure a string.\n",
    "\n",
    "# This function accepts a string variable \"data_field\".  \n",
    "def count_words(data_field):\n",
    "\n",
    "    # Splits the string into individual words. \n",
    "    split_data = data_field.split()\n",
    "  \n",
    "    # Then returns the number of words in the string using the len()\n",
    "    # function. \n",
    "    return len(split_data)\n",
    "    \n",
    "    # Note that it is possible to combine the len() function and the \n",
    "    # .split() method into the same line of code by inserting the \n",
    "    # data_field.split() command into the the len() function parameters.\n",
    "\n",
    "# Call to the function\n",
    "count_words(\"Catalog item 3523: Organic raw pumpkin seeds in shell\")\n",
    "# Should print 9"
   ]
  },
  {
   "cell_type": "markdown",
   "metadata": {},
   "source": [
    "Skill 2: Using list methods"
   ]
  },
  {
   "cell_type": "code",
   "execution_count": 22,
   "metadata": {},
   "outputs": [
    {
     "name": "stdout",
     "output_type": "stream",
     "text": [
      "[1989, 1992, 1997, 2001, 2006, 2011, 2018, 2022]\n"
     ]
    }
   ],
   "source": [
    "\"\"\"\n",
    "    Reverse the order of a list using the .reverse() method.\n",
    "\n",
    "    Combine two lists using the .extend() method.\n",
    "\"\"\"\n",
    "# This function accepts two variables, each containing a list of years.\n",
    "# A current \"recent_first\" list contains [2022, 2018, 2011, 2006].\n",
    "# An older \"recent_last\" list contains [1989, 1992, 1997, 2001].\n",
    "# The lists need to be combined with the years in chronological order.\n",
    "def record_profit_years(recent_first, recent_last):\n",
    "\n",
    "    # Reverse the order of the \"recent_first\" list so that it is in \n",
    "    # chronological order.\n",
    "    recent_first.reverse()\n",
    "\n",
    "    # Extend the \"recent_last\" list by appending the newly reversed \n",
    "    # \"recent_first\" list.\n",
    "    recent_last.extend(recent_first)\n",
    "\n",
    "    # Return the \"recent_last\", which now contains the two lists \n",
    "    # combined in chronological order. \n",
    "    return recent_last\n",
    "\n",
    "# Assign the two lists to the two variables to be passed to the \n",
    "# record_profit_years() function.\n",
    "recent_first = [2022, 2018, 2011, 2006]\n",
    "recent_last = [1989, 1992, 1997, 2001]\n",
    "\n",
    "\n",
    "\n",
    "# Call the record_profit_years() function and pass the two lists as \n",
    "# parameters. \n",
    "print(record_profit_years(recent_first, recent_last))\n",
    "# Should print [1989, 1992, 1997, 2001, 2006, 2011, 2018, 2022]"
   ]
  },
  {
   "cell_type": "markdown",
   "metadata": {},
   "source": [
    "Skill 3: Using a list comprehension "
   ]
  },
  {
   "cell_type": "code",
   "execution_count": 21,
   "metadata": {},
   "outputs": [
    {
     "name": "stdout",
     "output_type": "stream",
     "text": [
      "[1972, 1973, 1974, 1975]\n",
      "[5, 7, 9, 11, 13]\n"
     ]
    }
   ],
   "source": [
    "\"\"\"\n",
    "    Use a list comprehension [ ] as a shortcut for creating a new list from a range.\n",
    "\n",
    "    Include a calculation with a for loop in a range with 2 parameters (lower, upper+1). \n",
    "\"\"\"\n",
    "# The function accepts two parameters: a start year and an end year.\n",
    "def list_years(start, end):\n",
    "\n",
    "    # It returns a list comprehension that creates a list of years in a for\n",
    "    # loop using a range from the start year to the end year (inclusive of \n",
    "    # the upper range year, using end+1).\n",
    "    return [year for year in range(start, end+1)]\n",
    "\n",
    "\n",
    "# Call the years() function with two parameters.\n",
    "print(list_years(1972, 1975)) \n",
    "# Should print [1972, 1973, 1974, 1975]\n",
    "\"\"\"\n",
    "    Use a list comprehension [ ] with a for loop and an if condition.   \n",
    "\"\"\"\n",
    "# The function accepts two variable integers through the parameters and\n",
    "# returns all odd numbers between x and y-1.\n",
    "def odd_numbers(x, y):\n",
    "\n",
    "\n",
    "# This list comprehension uses a for loop to iterate through values \n",
    "# of n in a range from x to y, with the value of y excluded (meaning\n",
    "# keep the default range() function behavior to exclude the\n",
    "# end-of-range value from the range). Since an incremental value is not \n",
    "# specified, the range function uses the default increment of +1.\n",
    "# The if condition checks n to test if the number is odd using the\n",
    "# modulo operator. This condition is written to check if n is divided \n",
    "# by 2, that the remainder is not 0. \n",
    "    return [n for n in range(x, y) if n % 2 != 0]\n",
    "\n",
    "\n",
    "# Call the years() function with two parameters.\n",
    "print(odd_numbers(5, 15)) \n",
    "# Should print [5, 7, 9, 11, 13]"
   ]
  },
  {
   "cell_type": "markdown",
   "metadata": {},
   "source": [
    "Skill 4: Using dictionary methods"
   ]
  },
  {
   "cell_type": "code",
   "execution_count": 23,
   "metadata": {},
   "outputs": [
    {
     "name": "stdout",
     "output_type": "stream",
     "text": [
      "The IP address of the Domain Name Server server is 8.8.8.8\n",
      "The IP address of the Gateway Server server is 192.168.1.1\n",
      "The IP address of the Print Server server is 192.168.1.33\n",
      "The IP address of the Mail Server server is 192.168.1.190\n",
      "\n",
      "{'Arshi': 0, 'Catalina': 0, 'Diego': 0}\n"
     ]
    }
   ],
   "source": [
    "\"\"\"\n",
    "    Iterate through the keys and values of a dictionary.\n",
    "\n",
    "    Return the keys and values in a formatted string using the .format() function.\n",
    "\"\"\"\n",
    "# The network() function accepts a dictionary \"servers\" as a parameter.\n",
    "def network(servers):\n",
    "\n",
    "    # A string variable is initialized to hold the \"result\". \n",
    "    result = \"\"\n",
    "\n",
    "    # For each \"hostname\" (key) and \"IP address\" (value) in the \"server\" dictionary items...\n",
    "    for hostname, IP_address in servers.items():\n",
    "\n",
    "        # A string identifying the hostname and IP address for each server is added\n",
    "        # to the \"result\" variable. The string .format() function and is used to plug\n",
    "        # the hostname and IP_address variables into the designated {} placeholders\n",
    "        # within the string.\n",
    "        result += \"The IP address of the {} server is {}\".format(hostname, IP_address) + \"\\n\"\n",
    "    \n",
    "    # Return the \"result\" variable string.\n",
    "    return result \n",
    "\n",
    "# Call the \"network\" function with the dictionary. \n",
    "print(network({\"Domain Name Server\":\"8.8.8.8\", \"Gateway Server\":\"192.168.1.1\", \"Print Server\":\"192.168.1.33\", \"Mail Server\":\"192.168.1.190\"}))\n",
    "\n",
    "# Should print:\n",
    "# The IP address of the Domain Name Server server is 8.8.8.8\n",
    "# The IP address of the Gateway Server server is 192.168.1.1\n",
    "# The IP address of the Print Server server is 192.168.1.33\n",
    "# The IP address of the Mail Server server is 192.168.1.190\n",
    "\n",
    "\n",
    "\"\"\"\n",
    "    Create a copy of a dictionary.\n",
    "\n",
    "    Iterate through the values of the new dictionary.\n",
    "\n",
    "    Change each value in the new dictionary, while keeping the same keys. \n",
    "\"\"\"\n",
    "# The scores() function accepts a dictionary \"game_scores\" as a parameter.\n",
    "def reset_scores(game_scores):\n",
    "\n",
    "    # The .copy() dictionary method is used to create a new copy of the \"game_scores\".\n",
    "    new_game_scores = game_scores.copy() \n",
    "\n",
    "    # The for loop iterates over new_game_scores items, with the player as the key\n",
    "    # and the score as the value. \n",
    "    for player, score in new_game_scores.items():\n",
    "    \n",
    "        # The dictionary operation to assign a new value to a key is used\n",
    "        # to reset the grade values to 0.\n",
    "        new_game_scores[player] = 0\n",
    "  \n",
    "    return new_game_scores\n",
    " \n",
    "# The dictionary is defined.\n",
    "game1_scores = {\"Arshi\": 3, \"Catalina\": 7, \"Diego\": 6}\n",
    " \n",
    "# Call the \"reset_scores\" function with the \"game1_scores\" dictionary. \n",
    "print(reset_scores(game1_scores))\n",
    "# Should print {'Arshi': 0, 'Catalina': 0, 'Diego': 0}"
   ]
  },
  {
   "cell_type": "markdown",
   "metadata": {},
   "source": [
    "--------------------------------------------------------------------------------------------------------------Graded Assessment---------------------------------------------------------------------------------------------------------------"
   ]
  },
  {
   "cell_type": "markdown",
   "metadata": {},
   "source": [
    "1. Điền vào chỗ trống để hoàn thành chức năng “first_character”. Hàm này sẽ trả về ký tự đầu tiên của bất kỳ chuỗi nào được truyền vào. Hoàn thành thao tác chuỗi cần thiết trong hàm này để đầu vào ví dụ như \"Hello, World\" sẽ tạo ra đầu ra \"H\"."
   ]
  },
  {
   "cell_type": "code",
   "execution_count": 25,
   "metadata": {},
   "outputs": [
    {
     "name": "stdout",
     "output_type": "stream",
     "text": [
      "H\n",
      "P\n",
      "K\n"
     ]
    }
   ],
   "source": [
    "def first_character(string):\n",
    "    # Complete the return statement using a string operation.\n",
    "    return string[0] \n",
    "print(first_character(\"Hello, World\")) # Should print H\n",
    "print(first_character(\"Python is awesome\")) # Should print P\n",
    "print(first_character(\"Keep going\")) # Should print K"
   ]
  },
  {
   "cell_type": "markdown",
   "metadata": {},
   "source": [
    "2. Hoàn thành vòng lặp for và phương thức chuỗi cần thiết trong hàm này để lệnh gọi hàm như \"alpha_length (\"Cái này có 1 số trong đó\")\" sẽ trả về kết quả đầu ra là \"17\". Chức năng này nên:\n",
    "\n",
    "        1. Chấp nhận một chuỗi thông qua các tham số của hàm;\n",
    "\n",
    "        2. Lặp lại các ký tự trong chuỗi;\n",
    "\n",
    "        3. Xác định xem mỗi ký tự có phải là một chữ cái hay không (chỉ tính các ký tự chữ cái; bỏ qua số, dẫu chấm câu và dấu cách);\n",
    "\n",
    "        4. Tăng bộ đếm;\n",
    "\n",
    "        5. Trả về số lượng chữ cái trong chuỗi."
   ]
  },
  {
   "cell_type": "code",
   "execution_count": 28,
   "metadata": {},
   "outputs": [
    {
     "name": "stdout",
     "output_type": "stream",
     "text": [
      "17\n",
      "16\n",
      "21\n"
     ]
    }
   ],
   "source": [
    "def alpha_length(string):\n",
    "    count_alpha = 0\n",
    "    # Complete the for loop sequence to iterate over \"string\".\n",
    "    for character in string:\n",
    "        # Complete the if-statement using a string method.\n",
    "        if character.isalpha():\n",
    "            count_alpha += 1  \n",
    "    return count_alpha\n",
    "\n",
    "print(alpha_length(\"This has 1 number in it\"))  # Should print 17\n",
    "print(alpha_length(\"Thisisallletters\"))  # Should print 16\n",
    "print(alpha_length(\"This one has punctuation!\"))  # Should print 21\n"
   ]
  },
  {
   "cell_type": "markdown",
   "metadata": {},
   "source": [
    "3. Xem xét kịch bản sau về việc sử dụng danh sách Python:\n",
    "    Một giáo sư giao cho hai trợ lý của mình, Jaime và Drew, nhiệm vụ ghi danh sách điểm danh các sinh viên theo thứ tự họ đến lớp. Drew là người đầu tiên ghi nhận học sinh nào đến, và sau đó Jaime tiếp quản. Sau buổi học, mỗi người nhập danh sách của mình vào máy tính và gửi qua email cho giáo sư. Giáo sư muốn kết hợp hai danh sách thành một, theo thứ tự đến của mỗi sinh viên. Jaime đã gửi email theo dõi, nói rằng danh sách của cô ấy theo thứ tự ngược lại.\n",
    "    Hoàn thành đoạn mã để kết hợp hai danh sách thành một theo thứ tự: nội dung của danh sách của Drew, tiếp theo là danh sách của Jaime theo thứ tự ngược lại, để tạo ra một danh sách chính xác các sinh viên khi họ đến. Chức năng này nên:\n",
    "\n",
    "        1. Chấp nhận hai danh sách thông qua các tham số của hàm;\n",
    "\n",
    "        2. Đảo ngược thứ tự của “list1”;\n",
    "\n",
    "        3. Kết hợp hai danh sách sao cho “list2” xuất hiện trước, tiếp theo là “list1”;\n",
    "\n",
    "        4. Trả lại danh sách mới."
   ]
  },
  {
   "cell_type": "code",
   "execution_count": 36,
   "metadata": {},
   "outputs": [
    {
     "name": "stdout",
     "output_type": "stream",
     "text": [
      "['Minna', 'Carol', 'Gunnar', 'Malena', 'Oakley', 'Jocelyn', 'Benjamin', 'Chika', 'Alma']\n"
     ]
    }
   ],
   "source": [
    "def combine_lists(list1, list2):\n",
    "    combined_list = []  # Initialize an empty list variable\n",
    "    list1.reverse()  # Reverse the order of \"list1\"\n",
    "    combined_list.extend(list2)  # Combine the two lists\n",
    "    combined_list.extend(list1)\n",
    "    return combined_list\n",
    "\n",
    "Jaimes_list = [\"Alma\", \"Chika\", \"Benjamin\", \"Jocelyn\", \"Oakley\"]\n",
    "Drews_list = [\"Minna\", \"Carol\", \"Gunnar\", \"Malena\"]\n",
    "\n",
    "print(combine_lists(Jaimes_list, Drews_list))\n",
    "# Should print ['Minna', 'Carol', 'Gunnar', 'Malena', 'Oakley', 'Jocelyn', 'Benjamin', 'Chika', 'Alma']\n"
   ]
  },
  {
   "cell_type": "markdown",
   "metadata": {},
   "source": [
    "4. Điền vào chỗ trống sau return để hoàn thành hàm “squares”. Hàm này nên sử dụng khả năng hiểu danh sách để tạo danh sách các số bình phương (sử dụng biểu thức n*n hoặc n**2). Hàm nhận hai biến và sẽ trả về danh sách các ô vuông xuất hiện giữa các biến \"start\" và \"end\" (có nghĩa là phạm vi phải bao gồm cả giá trị \"start\" và \"end\") . Hoàn thành việc hiểu danh sách trong chức năng này để đầu vào như “squares(2, 3)” sẽ tạo ra đầu ra \"[4, 9]\"."
   ]
  },
  {
   "cell_type": "code",
   "execution_count": 37,
   "metadata": {},
   "outputs": [
    {
     "name": "stdout",
     "output_type": "stream",
     "text": [
      "[4, 9]\n",
      "[1, 4, 9, 16, 25]\n",
      "[0, 1, 4, 9, 16, 25, 36, 49, 64, 81, 100]\n"
     ]
    }
   ],
   "source": [
    "def squares(start, end):\n",
    "\treturn [ n*n for n in range(start, end+1) ]\n",
    "\n",
    "print(squares(2, 3)) # Should be [4, 9]\n",
    "print(squares(1, 5)) # Should be [1, 4, 9, 16, 25]\n",
    "print(squares(0, 10)) # Should be [0, 1, 4, 9, 16, 25, 36, 49, 64, 81, 100]"
   ]
  },
  {
   "cell_type": "markdown",
   "metadata": {},
   "source": [
    "5. Điền vào chỗ trống để hoàn thành hàm “car_listing”. Hàm này chấp nhận dictionary “car_prices”. Nó sẽ lặp lại các khóa (kiểu ô tô \"Kia Soul\") và giá trị (giá ô tô \"19000\") trong dictionary đó. Đối với mỗi cặp mục, hàm sẽ định dạng một chuỗi sao cho một mục dictionary như \"\"Kia Soul\":19000\" sẽ in ra \"A Kia Soul costs 19000 dollars\". Mỗi chuỗi mới sẽ xuất hiện trên dòng riêng của nó."
   ]
  },
  {
   "cell_type": "code",
   "execution_count": 38,
   "metadata": {},
   "outputs": [
    {
     "name": "stdout",
     "output_type": "stream",
     "text": [
      "A Kia Soul costs 19000 dollars\n",
      "A Lamborghini Diablo costs 55000 dollars\n",
      "A Ford Fiesta costs 13000 dollars\n",
      "A Toyota Prius costs 24000 dollars\n",
      "\n"
     ]
    }
   ],
   "source": [
    "def car_listing(car_prices):\n",
    "    result = \"\"\n",
    "    # Complete the for loop to iterate through the key and value items\n",
    "    # in the dictionary.\n",
    "    for car, price in car_prices.items():\n",
    "        result += \"A {} costs {} dollars\\n\".format(car, price)\n",
    "    return result\n",
    "\n",
    "print(car_listing({\"Kia Soul\": 19000, \"Lamborghini Diablo\": 55000, \"Ford Fiesta\": 13000, \"Toyota Prius\": 24000}))\n"
   ]
  },
  {
   "cell_type": "markdown",
   "metadata": {},
   "source": [
    "6. Xem xét kịch bàn sau về việc sử dụng từ điển và danh sách Python:\n",
    "\n",
    "    Tessa và Rick đang tổ chức một bữa tiệc. Trước khi gửi lời mời, họ muốn thêm tất cả những người họ sẽ mời vào dictionary để họ cũng có thể thêm số lượng khách mà mỗi người bạn sẽ đưa đến bữa tiệc.\n",
    "\n",
    "    Hoàn thành chức năng để nó chấp nhận danh sách người, sau đó lặp lại danh sách và thêm tất cả tên (element) vào dictionary dưới dạng key có giá trị bắt đầu bằng 0. Tessa và Rick dự định cập nhật các giá trị này với số lượng khách, bạn bè của họ sẽ đi theo họ đến bữa tiệc. Sau đó, in từ điển mới.\n",
    "\n",
    "    Chức năng này nên:\n",
    "\n",
    "        1. Chấp nhận một biến danh sách có tên là “guest_list\" thông qua tham số của hàm;\n",
    "\n",
    "        2. Thêm nội dung của danh sách dưới dạng key vào dictionary mới, dictionary trống;\n",
    "\n",
    "        3. Gán mỗi khóa mới với giá trị 0;\n",
    "\n",
    "        4. In từ điển mới."
   ]
  },
  {
   "cell_type": "code",
   "execution_count": 39,
   "metadata": {},
   "outputs": [
    {
     "name": "stdout",
     "output_type": "stream",
     "text": [
      "{'Adam': 0, 'Camila': 0, 'David': 0, 'Jamal': 0, 'Charley': 0, 'Titus': 0, 'Raj': 0, 'Noemi': 0, 'Sakira': 0, 'Chidi': 0}\n"
     ]
    }
   ],
   "source": [
    "def setup_guests(guest_list):\n",
    "    result = {}  # Initialize a new dictionary\n",
    "    for guest in guest_list:  # Iterate over the elements in the list\n",
    "        result[guest] = 0  # Add each list element to the dictionary as a key with the starting value of 0\n",
    "    return result\n",
    "\n",
    "guests = [\"Adam\", \"Camila\", \"David\", \"Jamal\", \"Charley\", \"Titus\", \"Raj\", \"Noemi\", \"Sakira\", \"Chidi\"]\n",
    "\n",
    "print(setup_guests(guests))\n"
   ]
  },
  {
   "cell_type": "markdown",
   "metadata": {},
   "source": [
    "7. Hoàn thành chức năng để đầu vào như \"Đây là một câu.” sẽ trả về một từ điển chứa số lượng của từng chữ cái xuất hiện trong chuỗi: {\"t\":2,\"h: 1, V:2,'s':3, a:1, e3, n': 2, C': 1}. Chức năng này nên:\n",
    "\n",
    "        1. Chấp nhận một biển \"text\" thông qua các tham số của hàm;\n",
    "\n",
    "        2. Lập qua từng ký tự trong chuỗi đầu vào để đếm tần suất của từng chữ cái được tìm thấy, (chỉ tính các chữ cái, không tính khoảng trắng, số hoặc dấu chấm câu; hãy nhớ rằng Python phân biệt chữ hoa chữ thường);\n",
    "\n",
    "        3. Điền vào dictionary mới các chữ cái dưới dạng key, đảm bảo mỗi key là duy nhất và gán giá trị cho mỗi key với số lượng chữ cái đó;\n",
    "\n",
    "        4. Trả lại từ điển mới."
   ]
  },
  {
   "cell_type": "code",
   "execution_count": 40,
   "metadata": {},
   "outputs": [
    {
     "name": "stdout",
     "output_type": "stream",
     "text": [
      "{'a': 2, 'b': 2, 'c': 2}\n",
      "{'m': 1, 'a': 1, 't': 1, 'h': 1, 'i': 1, 's': 1, 'f': 1, 'u': 1, 'n': 1}\n",
      "{'t': 2, 'h': 1, 'i': 2, 's': 3, 'a': 1, 'e': 3, 'n': 2, 'c': 1}\n"
     ]
    }
   ],
   "source": [
    "def count_letters(text):\n",
    "  # Initialize a new dictionary.\n",
    "  dictionary = {}\n",
    "  # Complete the for loop to iterate through each \"text\" character and \n",
    "  # use a string method to ensure all letters are lowercase.\n",
    "  for char in text.lower():   \n",
    "    # Complete the if-statement using a string method to check if the\n",
    "    # character is a letter.\n",
    "    if char.isalpha(): \n",
    "      # Complete the if-statement using a logical operator to check if \n",
    "      # the letter is not already in the dictionary.\n",
    "      if char not in dictionary: \n",
    "           # Use a dictionary operation to add the letter as a key\n",
    "           # and set the initial count value to zero.\n",
    "           dictionary[char] = 0  \n",
    "      # Use a dictionary operation to increment the letter count value \n",
    "      # for the existing key.\n",
    "      dictionary[char] += 1  \n",
    "      # Increment the letter counter. \n",
    "  return dictionary\n",
    "\n",
    "print(count_letters(\"AaBbCc\"))\n",
    "# Should be {'a': 2, 'b': 2, 'c': 2}\n",
    "\n",
    "print(count_letters(\"Math is fun! 2+2=4\"))\n",
    "# Should be {'m': 1, 'a': 1, 't': 1, 'h': 1, 'i': 1, 's': 1, 'f': 1, 'u': 1, 'n': 1}\n",
    "\n",
    "print(count_letters(\"This is a sentence.\"))\n",
    "# Should be {'t': 2, 'h': 1, 'i': 2, 's': 3, 'a': 1, 'e': 3, 'n': 2, 'c': 1}"
   ]
  },
  {
   "cell_type": "markdown",
   "metadata": {},
   "source": [
    "8. Hàm print sẽ trả về gì khi cho biến car_make = \"Lamborghini\""
   ]
  },
  {
   "cell_type": "code",
   "execution_count": 41,
   "metadata": {},
   "outputs": [
    {
     "name": "stdout",
     "output_type": "stream",
     "text": [
      "bor\n",
      "hini\n",
      "Lamborg\n"
     ]
    }
   ],
   "source": [
    "car_make = \"Lamborghini\"\n",
    "print(car_make[3:-5])\n",
    "print(car_make[-4:])\n",
    "print(car_make[:7])"
   ]
  },
  {
   "cell_type": "markdown",
   "metadata": {},
   "source": [
    "9. Thêm một từ vào danh sách"
   ]
  },
  {
   "cell_type": "code",
   "execution_count": 43,
   "metadata": {},
   "outputs": [
    {
     "name": "stdout",
     "output_type": "stream",
     "text": [
      "['rock', 'pop', 'country']\n",
      "['rock', 'pop', 'country', 'reds']\n"
     ]
    }
   ],
   "source": [
    "music_genres = [\"rock\", \"pop\", \"country\"]\n",
    "print(music_genres)\n",
    "music_genres.append(\"reds\")\n",
    "print(music_genres)"
   ]
  },
  {
   "cell_type": "markdown",
   "metadata": {},
   "source": [
    "10. Kiểm tra value của key"
   ]
  },
  {
   "cell_type": "code",
   "execution_count": 44,
   "metadata": {},
   "outputs": [
    {
     "data": {
      "text/plain": [
       "65"
      ]
     },
     "execution_count": 44,
     "metadata": {},
     "output_type": "execute_result"
    }
   ],
   "source": [
    "speed_limits = {\"street\": 35, \"highway\": 65, \"school\": 15}\n",
    "speed_limits[\"highway\"]"
   ]
  }
 ],
 "metadata": {
  "kernelspec": {
   "display_name": "Python 3",
   "language": "python",
   "name": "python3"
  },
  "language_info": {
   "codemirror_mode": {
    "name": "ipython",
    "version": 3
   },
   "file_extension": ".py",
   "mimetype": "text/x-python",
   "name": "python",
   "nbconvert_exporter": "python",
   "pygments_lexer": "ipython3",
   "version": "3.10.11"
  },
  "orig_nbformat": 4
 },
 "nbformat": 4,
 "nbformat_minor": 2
}

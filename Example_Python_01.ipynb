{
 "cells": [
  {
   "attachments": {},
   "cell_type": "markdown",
   "metadata": {},
   "source": [
    "1. Funcion\n"
   ]
  },
  {
   "cell_type": "code",
   "execution_count": 1,
   "metadata": {},
   "outputs": [
    {
     "name": "stdout",
     "output_type": "stream",
     "text": [
      "Tong DT 2 hinh tam giac la: 39.5\n"
     ]
    }
   ],
   "source": [
    "def DTTG(canh, cao):\n",
    "    return (canh*cao)/2\n",
    "DT1 = DTTG(15, 3)\n",
    "DT2 = DTTG(17, 2)\n",
    "sum = DT1 + DT2\n",
    "print(\"Tong DT 2 hinh tam giac la: \" + str(sum))"
   ]
  },
  {
   "cell_type": "code",
   "execution_count": 2,
   "metadata": {},
   "outputs": [
    {
     "name": "stdout",
     "output_type": "stream",
     "text": [
      "1 23 20\n"
     ]
    }
   ],
   "source": [
    "def convert_seconds(seconds):\n",
    "    hours = seconds // 3600\n",
    "    minutes = (seconds - hours * 3600) // 60\n",
    "    remaining_seconds = seconds - hours * 3600 - minutes * 60\n",
    "    return hours, minutes, remaining_seconds\n",
    "\n",
    "hours, minutes, seconds = convert_seconds(5000)\n",
    "print(hours, minutes, seconds)"
   ]
  },
  {
   "cell_type": "code",
   "execution_count": 3,
   "metadata": {},
   "outputs": [
    {
     "name": "stdout",
     "output_type": "stream",
     "text": [
      "Welcome, Christine\n",
      "None\n"
     ]
    }
   ],
   "source": [
    "def greeting(name):\n",
    "    print(\"Welcome, \" + name)\n",
    "\n",
    "result = greeting(\"Christine\")\n",
    "print(result)"
   ]
  },
  {
   "cell_type": "code",
   "execution_count": 4,
   "metadata": {},
   "outputs": [
    {
     "name": "stdout",
     "output_type": "stream",
     "text": [
      "Hello Phuc. Your lucky number is 36\n",
      "Hello Thien. Your lucky number is 45\n"
     ]
    }
   ],
   "source": [
    "def lucky_number(name):\n",
    "    number = len(name) * 9\n",
    "    print(\"Hello \" + name + \". Your lucky number is \" + str(number))\n",
    "lucky_number(\"Phuc\")\n",
    "lucky_number(\"Thien\")"
   ]
  },
  {
   "cell_type": "code",
   "execution_count": 5,
   "metadata": {},
   "outputs": [
    {
     "name": "stdout",
     "output_type": "stream",
     "text": [
      "78.5\n"
     ]
    }
   ],
   "source": [
    "def circle_area(radius):\n",
    "    pi = 3.14\n",
    "    area = pi * (radius ** 2)\n",
    "    print(area)\n",
    "circle_area(5)"
   ]
  },
  {
   "cell_type": "code",
   "execution_count": 6,
   "metadata": {},
   "outputs": [
    {
     "name": "stdout",
     "output_type": "stream",
     "text": [
      "903\n"
     ]
    }
   ],
   "source": [
    "# This function calculates the number of days in a variable number of \n",
    "# years, months, and days. These variables are provided by the user and\n",
    "# are passed to the function through the function’s parameters.\n",
    "def find_total_days(years, months, days):\n",
    "# Assign a variable to hold the calculations for the number of days in\n",
    "# a year (years*365) plus the number of days in a month (months*30) plus\n",
    "# the number of days provided through the \"days\" parameter variable.\n",
    "    my_days = (years*365) + (months*30) + days\n",
    "# Use the \"return\" keyword to send the result of the \"my_days\"  \n",
    "# calculation to the function call. \n",
    "    return my_days\n",
    " \n",
    "# Function call with user provided parameter values. \n",
    "print(find_total_days(2,5,23))"
   ]
  },
  {
   "cell_type": "code",
   "execution_count": 7,
   "metadata": {},
   "outputs": [
    {
     "name": "stdout",
     "output_type": "stream",
     "text": [
      "The volume in millimeters is 59.0\n",
      "The volume in millimeters is 118.0\n"
     ]
    }
   ],
   "source": [
    "# This function converts fluid ounces to milliliters and returns the \n",
    "# result of the conversion.\n",
    "def convert_volume(fluid_ounce):\n",
    "# Calculate value of the \"ml\" variable using the parameter variable \n",
    "# \"fluid_ounce\". There are approximately 29.5 milliliters in 1 fluid\n",
    "# ounce.\n",
    "    ml = fluid_ounce * 29.5  \n",
    "# Return the result of the calculation.  \n",
    "    return ml\n",
    " \n",
    "# Call the conversion from within the print() function using 2 fluid \n",
    "# ounces. Convert the return value from a float to a string.  \n",
    "print(\"The volume in millimeters is \" + str(convert_volume(2)))\n",
    " \n",
    "# Call the function again and double the 2 fluid ounces from within\n",
    "# the print function.\n",
    "print(\"The volume in millimeters is \" + str(convert_volume(2)*2))\n",
    "# Alternative calculation:\n",
    "# print(\"The volume in millimeters is \" + str(convert_volume(4))"
   ]
  },
  {
   "cell_type": "code",
   "execution_count": 11,
   "metadata": {},
   "outputs": [
    {
     "name": "stdout",
     "output_type": "stream",
     "text": [
      "The distance in kilometers is 88.0\n",
      "The round-trip in kilometers is 176.0\n"
     ]
    }
   ],
   "source": [
    "# 1) Complete the function to return the result of the conversion\n",
    "def convert_distance(miles):\n",
    "\tkm = miles * 1.6  # approximately 1.6 km in 1 mile\n",
    "\treturn km\n",
    "\n",
    "# Do not indent any of the following lines of code as they are \n",
    "# meant to be located outside of the function above\n",
    "\n",
    "my_trip_miles = 55\n",
    "\n",
    "# 2) Convert my_trip_miles to kilometers by calling the function above\n",
    "my_trip_km = convert_distance(my_trip_miles)\n",
    "\n",
    "# 3) Fill in the blank to print the result of the my_trip_km conversion\n",
    "print(\"The distance in kilometers is \" + str(my_trip_km))\n",
    "\n",
    "# 4) Calculate the round-trip in kilometers by doubling the result of\n",
    "#    my_trip_km. Fill in the blank to print the result.\n",
    "print(\"The round-trip in kilometers is \" + str(my_trip_km*2))"
   ]
  },
  {
   "attachments": {},
   "cell_type": "markdown",
   "metadata": {},
   "source": [
    "2. If/else"
   ]
  },
  {
   "cell_type": "code",
   "execution_count": 9,
   "metadata": {},
   "outputs": [
    {
     "name": "stdout",
     "output_type": "stream",
     "text": [
      "99 100\n"
     ]
    }
   ],
   "source": [
    "# This function compares two numbers and returns them\n",
    "# in increasing order.\n",
    "def order_numbers(number1, number2):\n",
    "\tif number2 > number1:\n",
    "\t\treturn number1, number2\n",
    "\telse:\n",
    "\t\treturn number2, number1\n",
    "\n",
    "# 1) Fill in the blanks so the print statement displays the result\n",
    "#    of the function call\n",
    "smaller, bigger = order_numbers(100, 99)\n",
    "print(smaller, bigger)"
   ]
  },
  {
   "cell_type": "code",
   "execution_count": 10,
   "metadata": {},
   "outputs": [
    {
     "name": "stdout",
     "output_type": "stream",
     "text": [
      "3723\n"
     ]
    }
   ],
   "source": [
    "def print_seconds(hours, minutes, seconds):\n",
    "    print(hours*3600+minutes*60+seconds)\n",
    "\n",
    "\n",
    "print_seconds(1,2,3)\n",
    "#output will print to the screen"
   ]
  },
  {
   "cell_type": "code",
   "execution_count": 2,
   "metadata": {},
   "outputs": [
    {
     "name": "stdout",
     "output_type": "stream",
     "text": [
      "True\n",
      "False\n",
      "True\n",
      "False\n"
     ]
    }
   ],
   "source": [
    "print(32 == 30+2)   # The == operator checks if the 2 values are \n",
    "                    # equal to each other. If they are equal, \n",
    "                    # Python returns a True result.\n",
    "\n",
    "\n",
    "print(5+10 == 6+7)  # If the two values are not equal, as in the\n",
    "                  # expression 5+10 == 6+7 (or 15 == 13), Python          \n",
    "                    # returns a False result.\n",
    "\n",
    "\n",
    "print(10-4 != 10+4) # The != operator checks if the 2 values are\n",
    "                    # NOT equal to each other. If true, Python              \n",
    "                    # returns a True result. \n",
    "\n",
    "\n",
    "print(9/3 != 3*1)   # In this last example, 9/3 != 3*1 (or 3 != 3)\n",
    "                  # is false. So, Python returns a False value."
   ]
  },
  {
   "cell_type": "code",
   "execution_count": 6,
   "metadata": {},
   "outputs": [
    {
     "name": "stdout",
     "output_type": "stream",
     "text": [
      "Invalid username. Must be at leat 3 characters long\n"
     ]
    }
   ],
   "source": [
    "def hint_username(username):\n",
    "    if len(username) < 3:\n",
    "        print(\"Invalid username. Must be at leat 3 characters long\")\n",
    "    elif len(username) > 15:\n",
    "        print(\"Invalid username. Must be at most 15 characters long\")\n",
    "    else:\n",
    "        print(\"Valid username\")\n",
    "hint_username(\"Ph\")"
   ]
  },
  {
   "cell_type": "code",
   "execution_count": 8,
   "metadata": {},
   "outputs": [
    {
     "name": "stdout",
     "output_type": "stream",
     "text": [
      "2\n"
     ]
    }
   ],
   "source": [
    "number = 10\n",
    "if number > 11: \n",
    "  print(0)\n",
    "elif number != 10:\n",
    "  print(1)\n",
    "elif number >= 20 or number < 12:\n",
    "  print(2)\n",
    "else:\n",
    "  print(3)"
   ]
  },
  {
   "cell_type": "code",
   "execution_count": 9,
   "metadata": {},
   "outputs": [
    {
     "name": "stdout",
     "output_type": "stream",
     "text": [
      "4096\n",
      "4096\n",
      "8192\n",
      "8192\n"
     ]
    }
   ],
   "source": [
    "\"\"\"\n",
    "If a filesystem has a block size of 4096 bytes, this means that a file comprised of only one byte will still use 4096 bytes of storage. A file made up of\n",
    "4097 bytes will use 4096*2=8192 bytes of storage. Knowing this, can you fill in the gaps in the calculate_storage function below, which calculates the\n",
    "total number of bytes needed to store a file of a given size?\n",
    "\"\"\"\n",
    "def calculate_storage(filesize):\n",
    "    block_size = 4096\n",
    "    # Use floor division to calculate how many blocks are fully occupied\n",
    "    full_blocks = filesize // block_size\n",
    "    # Use the modulo operator to check whether there's any remainder\n",
    "    partial_block_remainder = filesize % block_size\n",
    "    # Depending on whether there's a remainder or not, return\n",
    "    # the total number of bytes required to allocate enough blocks\n",
    "    # to store your data.\n",
    "    if partial_block_remainder > 0:\n",
    "        return (full_blocks + 1) * block_size\n",
    "    return full_blocks * block_size\n",
    "\n",
    "print(calculate_storage(1))    # Should be 4096\n",
    "print(calculate_storage(4096)) # Should be 4096\n",
    "print(calculate_storage(4097)) # Should be 8192\n",
    "print(calculate_storage(6000)) # Should be 8192"
   ]
  },
  {
   "cell_type": "code",
   "execution_count": 10,
   "metadata": {},
   "outputs": [
    {
     "name": "stdout",
     "output_type": "stream",
     "text": [
      "Provide IT Support to employees\n"
     ]
    }
   ],
   "source": [
    "# A function is created with the def() keyword. The parameter\n",
    "# variable \"time_as_string\" is passed to the function through a \n",
    "# call to the function.\n",
    "def task_reminder(time_as_string):\n",
    "\n",
    "    # The following if-elif-else block assigns various strings to\n",
    "    # the variable \"task\" depending on specific conditions. The\n",
    "    # test conditions are set using the == equality comparison \n",
    "    # operator. In this case, the time passed through the \n",
    "    # \"time_as_string\" parameter variable is tested as the \n",
    "    # specific condition. So, if the time  is \"11:30 a.m.\", then \n",
    "    # \"task\" is assigned the value: \"Run TPS report\".\n",
    "    if time_as_string == \"8:00 a.m.\":\n",
    "        task = \"Check overnight backup images\"\n",
    "    elif time_as_string == \"11:30 a.m.\":\n",
    "        task = \"Run TPS report\"\n",
    "    elif time_as_string == \"5:30 p.m.\":\n",
    "        task = \"Reboot servers\"\n",
    "    # The else statement is a catchall for all other values of \n",
    "    # the \"time_as_string\" parameter variable not listed in the\n",
    "    # if-elif block of code.\n",
    "    else:\n",
    "        task = \"Provide IT Support to employees\"\n",
    "\n",
    "    # This line returns the value of \"task\" to the function call.\n",
    "    return task\n",
    "\n",
    "# This line calls the function and passes a parameter  \n",
    "# (\"10:00 a.m.\") to the function.\n",
    "print(task_reminder(\"10:00 a.m.\"))\n",
    "# Should print \"Provide IT Support to employees\""
   ]
  },
  {
   "cell_type": "code",
   "execution_count": 11,
   "metadata": {},
   "outputs": [
    {
     "name": "stdout",
     "output_type": "stream",
     "text": [
      "120\n",
      "-2\n",
      "False\n",
      "This comparison is True\n",
      "0\n"
     ]
    }
   ],
   "source": [
    "# Example 1\n",
    "# Evaluate the output of this print statement\n",
    "def product(a, b):\n",
    "        return(a*b)\n",
    "print(product(product(2,4), product(3,5)))\n",
    "#################################\n",
    "# Example 2 \n",
    "# Evaluate the output of this print statement\n",
    "def difference(a, b):\n",
    "        return(a-b)\n",
    "def sum(a, b):\n",
    "        return(a+b)\n",
    "print(difference(sum(2,2), sum(3,3)))\n",
    "#################################\n",
    "# Example 3\n",
    "# Evaluate the Boolean output of this comparison\n",
    "print((5 >= 2*4) and (5 <= 4*3))\n",
    "#################################\n",
    "# Example 4 \n",
    "# Evaluate the value of the comparison in the if statement\n",
    "x = 3\n",
    "if x+5 > x**2 or x % 4 != 0:\n",
    "        print(\"This comparison is True\")\n",
    "#################################\n",
    "# Example 5 \n",
    "# Evaluate the output of this if-elif-else statement\n",
    "number = 6\n",
    "if number * 2 < 14:\n",
    "        print(number * 6 % 3)\n",
    "elif number > 7:\n",
    "        print(100 / number)\n",
    "else:\n",
    "        print(7 - number)\n",
    "# Click Run to check your answers. If you are having trouble \n",
    "# calculating the correct answers manually, please review the\n",
    "# Practice Quiz Study Guides, videos, and readings in this Module."
   ]
  },
  {
   "cell_type": "code",
   "execution_count": 12,
   "metadata": {},
   "outputs": [
    {
     "name": "stdout",
     "output_type": "stream",
     "text": [
      "0.3333333333333333\n"
     ]
    }
   ],
   "source": [
    "def get_remainder(x, y):\n",
    " \n",
    "  if x == 0 or y == 0 or x == y:\n",
    "    remainder = 0\n",
    "  else:\n",
    "    remainder = (x % y) / y\n",
    "  return remainder\n",
    "\n",
    "\n",
    "print(get_remainder(10, 3))"
   ]
  },
  {
   "cell_type": "code",
   "execution_count": 13,
   "metadata": {},
   "outputs": [
    {
     "name": "stdout",
     "output_type": "stream",
     "text": [
      "1\n",
      "2\n",
      "3\n",
      "4\n",
      "unknown\n",
      "unknown\n",
      "unknown\n"
     ]
    }
   ],
   "source": [
    "\"\"\"\n",
    "Fill in the blanks to complete the function.  The character translator function receives a single lowercase letter, then prints the numeric location\n",
    "of the letter in the English alphabet.  For example, “a” would return 1 and “b” would return 2. Currently, this function only supports the letters \n",
    "“a”, “b”, “c”, and “d” It returns \"unknown\" for all other letters or if the letter is uppercase.\n",
    "\"\"\"\n",
    "def letter_translator(letter):\n",
    "    if letter == \"a\":\n",
    "        letter_position = 1\n",
    "    elif letter == \"b\":\n",
    "        letter_position = 2\n",
    "    elif letter == \"c\":\n",
    "        letter_position = 3\n",
    "    elif letter == \"d\":\n",
    "        letter_position = 4\n",
    "    else:\n",
    "        letter_position = \"unknown\"\n",
    "    return letter_position\n",
    "\n",
    "\n",
    "print(letter_translator(\"a\")) # Should print 1\n",
    "print(letter_translator(\"b\")) # Should print 2\n",
    "print(letter_translator(\"c\")) # Should print 3\n",
    "print(letter_translator(\"d\")) # Should print 4\n",
    "print(letter_translator(\"e\")) # Should print unknown\n",
    "print(letter_translator(\"A\")) # Should print unknown\n",
    "print(letter_translator(\"\")) # Should print unknown"
   ]
  },
  {
   "cell_type": "code",
   "execution_count": 14,
   "metadata": {},
   "outputs": [
    {
     "name": "stdout",
     "output_type": "stream",
     "text": [
      "15\n"
     ]
    }
   ],
   "source": [
    "def greater_value(x, y):\n",
    "    if x > y:\n",
    "        return x\n",
    "    else:\n",
    "       return y\n",
    "\n",
    "\n",
    "print(greater_value(10,3*5))"
   ]
  },
  {
   "cell_type": "code",
   "execution_count": 15,
   "metadata": {},
   "outputs": [
    {
     "data": {
      "text/plain": [
       "False"
      ]
     },
     "execution_count": 15,
     "metadata": {},
     "output_type": "execute_result"
    }
   ],
   "source": [
    "x = 5*2\n",
    "\n",
    "((10 != x) or (10 > x))"
   ]
  },
  {
   "attachments": {},
   "cell_type": "markdown",
   "metadata": {},
   "source": [
    "Fill in the blanks to complete the function. The fractional_part function divides the numerator by the denominator, and returns just the fractional part (a number between 0 and 1). Complete the body of the function so that it returns the right number. Note: Since division by 0 produces an error, if the denominator is 0, the function should return 0 instead of attempting the division."
   ]
  },
  {
   "cell_type": "code",
   "execution_count": 16,
   "metadata": {},
   "outputs": [
    {
     "name": "stdout",
     "output_type": "stream",
     "text": [
      "0.0\n",
      "0.25\n",
      "0.6666666666666666\n",
      "0.5\n",
      "0\n",
      "0\n"
     ]
    }
   ],
   "source": [
    "def fractional_part(numerator, denominator):\n",
    "    # Operate with numerator and denominator to\n",
    "    # keep just the fractional part of the quotient \n",
    "    if denominator == 0 or numerator == 0:\n",
    "        part = 0\n",
    "    else:\n",
    "        part = (numerator % denominator)/denominator\n",
    "    return part\n",
    "\n",
    "\n",
    "print(fractional_part(5, 5)) # Should print 0\n",
    "print(fractional_part(5, 4)) # Should print 0.25\n",
    "print(fractional_part(5, 3)) # Should print 0.66...\n",
    "print(fractional_part(5, 2)) # Should print 0.5\n",
    "print(fractional_part(5, 0)) # Should print 0\n",
    "print(fractional_part(0, 5)) # Should print 0"
   ]
  },
  {
   "cell_type": "code",
   "execution_count": 11,
   "metadata": {},
   "outputs": [
    {
     "data": {
      "text/plain": [
       "'444'"
      ]
     },
     "execution_count": 11,
     "metadata": {},
     "output_type": "execute_result"
    }
   ],
   "source": [
    "'4'*3"
   ]
  },
  {
   "attachments": {},
   "cell_type": "markdown",
   "metadata": {},
   "source": [
    "3. While"
   ]
  },
  {
   "cell_type": "code",
   "execution_count": 1,
   "metadata": {},
   "outputs": [
    {
     "name": "stdout",
     "output_type": "stream",
     "text": [
      "Hello\n",
      "Hello\n",
      "Hello\n",
      "Hello\n",
      "Hello\n"
     ]
    }
   ],
   "source": [
    "my_var = 5\n",
    "while my_var < 10:\n",
    "    print(\"Hello\")\n",
    "    my_var += 1"
   ]
  },
  {
   "cell_type": "code",
   "execution_count": 6,
   "metadata": {},
   "outputs": [
    {
     "name": "stdout",
     "output_type": "stream",
     "text": [
      "3\n",
      "2\n",
      "1\n",
      "Zero!\n"
     ]
    }
   ],
   "source": [
    "def count_down(star):\n",
    "    current = 3\n",
    "    while current > 0:\n",
    "        print(current)\n",
    "        current -= 1\n",
    "        \n",
    "    print(\"Zero!\")\n",
    "count_down(3)"
   ]
  },
  {
   "cell_type": "code",
   "execution_count": 7,
   "metadata": {},
   "outputs": [
    {
     "name": "stdout",
     "output_type": "stream",
     "text": [
      "1\n",
      "2\n",
      "3\n",
      "4\n",
      "5\n"
     ]
    }
   ],
   "source": [
    "def print_range(start, end):\n",
    "\t# Loop through the numbers from start to end\n",
    "\tn = start\n",
    "\tm = end\n",
    "\twhile n <= m:\n",
    "\t\tprint(n)\n",
    "\t\tn += 1\n",
    "\n",
    "print_range(1, 5)  # Should print 1 2 3 4 5 (each number on its own line) "
   ]
  },
  {
   "cell_type": "code",
   "execution_count": 9,
   "metadata": {},
   "outputs": [
    {
     "name": "stdout",
     "output_type": "stream",
     "text": [
      "5\n",
      "10\n",
      "15\n",
      "20\n",
      "25\n",
      "30\n",
      "35\n",
      "40\n",
      "45\n",
      "50\n",
      "Done\n"
     ]
    }
   ],
   "source": [
    "multiplier = 1\n",
    "result = multiplier*5\n",
    "while result <= 50:\n",
    "  print(result)\n",
    "  multiplier += 1\n",
    "  result = multiplier*5\n",
    "print(\"Done\")"
   ]
  },
  {
   "cell_type": "code",
   "execution_count": 10,
   "metadata": {},
   "outputs": [
    {
     "name": "stdout",
     "output_type": "stream",
     "text": [
      "0\n",
      "2\n",
      "4\n",
      "8\n"
     ]
    }
   ],
   "source": [
    "# This function counts the number of integer factors for a \n",
    "# \"given_number\" variable, passed through the function’s parameters.\n",
    "# The \"count\" return value includes the \"given_number\" itself as a \n",
    "# factor (n*1). \n",
    "def count_factors(given_number):\n",
    " \n",
    "  # To include the \"given_number\" variable as a \"factor\", initialize\n",
    "  # the \"factor\" variable with the value 1 (if the \"factor\" variable\n",
    "  # were to start at 2, the \"given_number\" itself would be excluded). \n",
    "  factor = 1\n",
    "  count = 1\n",
    " \n",
    "  # This \"if\" block will run if the \"given_number\" equals 0.\n",
    "  if given_number == 0:\n",
    "    # If True, the return value will be 0 factors. \n",
    "    return 0\n",
    " \n",
    "  # The while loop will run while the \"factor\" is still less than\n",
    "  # the \"given_number\" variable.\n",
    "  while factor < given_number:\n",
    "    # This \"if\" block checks if the \"given_number\" can be divided by\n",
    "    # the \"factor\" variable without leaving a remainder. The modulo\n",
    "    # operator % is used to test for a remainder.\n",
    "    if given_number % factor == 0:\n",
    "      # If True, then the \"factor\" variable is added to the count of\n",
    "      # the \"given_number\"’s integer factors.\n",
    "      count += 1\n",
    "    # When exiting the if block, increment the \"factor\" variable by 1\n",
    "    # to divide the \"given_number\" variable by a new \"factor\" value\n",
    "    # inside the while loop.\n",
    "    factor += 1\n",
    " \n",
    "  # When the interpreter exits either the while loop or the top if\n",
    "  # block, it will return the value of the \"count\" variable.\n",
    "  return count\n",
    " \n",
    "print(count_factors(0)) # Count value will be 0\n",
    "print(count_factors(3)) # Should count 2 factors (1x3)\n",
    "print(count_factors(10)) # Should count 4 factors (1x10, 2x5)\n",
    "print(count_factors(24)) # Should count 8 factors (1x24, 2x12, 3x8,\n",
    "# and 4x6). "
   ]
  },
  {
   "cell_type": "code",
   "execution_count": 11,
   "metadata": {},
   "outputs": [
    {
     "name": "stdout",
     "output_type": "stream",
     "text": [
      "5 + 1 = 6\n",
      "5 + 2 = 7\n",
      "5 + 3 = 8\n",
      "5 + 4 = 9\n",
      "5 + 5 = 10\n",
      "17 + 1 = 18\n",
      "17 + 2 = 19\n",
      "17 + 3 = 20\n"
     ]
    }
   ],
   "source": [
    "# This function outputs an addition table. It is written to end after\n",
    "# printing 5 lines of the addition table, but it will break out of the\n",
    "# loop if the \"my_sum\" variable exceeds 20. \n",
    " \n",
    "# The function accepts a \"given_number\" variable through its \n",
    "# parameters.\n",
    "def addition_table(given_number):\n",
    " \n",
    "    # The \"iterated_number\" and \"my_sum\" variables are initialized with\n",
    "    # the value of 1. Although the \"my_sum\" variable does not need any\n",
    "    # specific initial value, it still must be assigned a data type\n",
    "    # before being used in the while loop. By initializing \"my_sum\"\n",
    "    # with any integer, the data type will be set to int.\n",
    "    iterated_number = 1\n",
    "    my_sum = 1\n",
    " \n",
    "    # The while loop will run while it is True that the   \n",
    "    # \"iterated_number\" is less than or equal to 5.\n",
    "    while iterated_number <= 5:\n",
    " \n",
    "        # The \"my_sum\" variable is assigned the value of the\n",
    "        # \"given_number\" plus the \"iterated_number\" variables.\n",
    "        my_sum = given_number + iterated_number\n",
    " \n",
    "        # Test to see if the \"my_sum\" variable is greater than 20.\n",
    "        if my_sum > 20:\n",
    "            # If True, then use the break keyword to exit the loop. \n",
    "            break\n",
    "        # If False, the Python interpreter will move to the next line \n",
    "        # in the while loop after the if-statement has ended.  \n",
    " \n",
    "        # The print function will output the \"given_number\" plus\n",
    "        # the \"iterated_number\" equals \"my_sum\".\n",
    "        print(str(given_number), \"+\", str(iterated_number), \"=\", str(my_sum))\n",
    " \n",
    "        # Increment the \"iterated_number\" before the while loop starts\n",
    "        # over again to print a new \"my_sum\" value.\n",
    "        iterated_number += 1\n",
    " \n",
    " \n",
    "addition_table(5)\n",
    "addition_table(17)\n",
    "addition_table(30)\n",
    "\n",
    "# Expected output:\n",
    "# 5 + 1 = 6\n",
    "# 5 + 2 = 7\n",
    "# 5 + 3 = 8\n",
    "# 5 + 4 = 9\n",
    "# 5 + 5 = 10\n",
    "# 17 + 1 = 18\n",
    "# 17 + 2 = 19\n",
    "# 17 + 3 = 20\n",
    "# None\n"
   ]
  },
  {
   "cell_type": "code",
   "execution_count": 13,
   "metadata": {},
   "outputs": [
    {
     "name": "stdout",
     "output_type": "stream",
     "text": [
      "False\n",
      "True\n",
      "True\n",
      "False\n"
     ]
    }
   ],
   "source": [
    "def is_power_of_two(number):\n",
    "  # This while loop checks if the \"number\" can be divided by two\n",
    "  # without leaving a remainder. How can you change the while loop to\n",
    "  # avoid a Python ZeroDivisionError?\n",
    "  while number % 2 == 0 and number > 1:\n",
    "    number = number / 2\n",
    "  # If after dividing by 2 \"number\" equals 1, then \"number\" is a power\n",
    "  # of 2.\n",
    "  if number == 1:\n",
    "    return True\n",
    "  return False\n",
    "  \n",
    "\n",
    "# Calls to the function\n",
    "print(is_power_of_two(0)) # Should be False\n",
    "print(is_power_of_two(1)) # Should be True\n",
    "print(is_power_of_two(8)) # Should be True\n",
    "print(is_power_of_two(9)) # Should be False"
   ]
  },
  {
   "cell_type": "code",
   "execution_count": 14,
   "metadata": {},
   "outputs": [
    {
     "name": "stdout",
     "output_type": "stream",
     "text": [
      "0\n",
      "1\n",
      "55\n",
      "114\n"
     ]
    }
   ],
   "source": [
    "# Fill in the blanks so that the while loop continues to run while the\n",
    "# \"divisor\" variable is less than the \"number\" parameter.\n",
    "\n",
    "def sum_divisors(number):\n",
    "# Initialize the appropriate variables\n",
    "  divisor = 1\n",
    "  total = 0\n",
    "\n",
    "  # Avoid dividing by 0 and negative numbers \n",
    "  # in the while loop by exiting the function\n",
    "  # if \"number\" is less than one\n",
    "  if number < 1:\n",
    "    return 0 \n",
    "\n",
    "  # Complete the while loop\n",
    "  while divisor < number:\n",
    "    if number % divisor == 0:\n",
    "      total += divisor\n",
    "    # Increment the correct variable\n",
    "    divisor += 1\n",
    "\n",
    "  # Return the correct variable \n",
    "  return total\n",
    "\n",
    "\n",
    "print(sum_divisors(0)) # Should print 0\n",
    "print(sum_divisors(3)) # Should print 1\n",
    "# 1\n",
    "print(sum_divisors(36)) # Should print 1+2+3+4+6+9+12+18\n",
    "# 55\n",
    "print(sum_divisors(102)) # Should print 1+2+3+6+17+34+51\n",
    "# 114"
   ]
  },
  {
   "attachments": {},
   "cell_type": "markdown",
   "metadata": {},
   "source": [
    "4. For"
   ]
  },
  {
   "cell_type": "code",
   "execution_count": 16,
   "metadata": {},
   "outputs": [
    {
     "name": "stdout",
     "output_type": "stream",
     "text": [
      "Total sum: 142 and Average: 28.4\n"
     ]
    }
   ],
   "source": [
    "values = [13, 24, 29, 35, 41]\n",
    "sum = 0\n",
    "length = 0\n",
    "for value in values:\n",
    "    sum += value\n",
    "    length += 1\n",
    "print(\"Total sum: \" + str(sum) + \" and Average: \" + str(sum/length))"
   ]
  },
  {
   "attachments": {},
   "cell_type": "markdown",
   "metadata": {},
   "source": [
    "================================================================= Note ======================================================================\n",
    "1. Sử dụng vòng lặp for nếu như muốn duyệt qua từng phần tử\n",
    "2. Sử dụng vòng lặp while nếu muốn lặp lại một công việc đến khi điều kiện thay đổi"
   ]
  },
  {
   "cell_type": "code",
   "execution_count": 20,
   "metadata": {},
   "outputs": [
    {
     "name": "stdout",
     "output_type": "stream",
     "text": [
      "Hi Taylor\n",
      "Hi Davis\n",
      "Hi Jenny\n"
     ]
    }
   ],
   "source": [
    "friends = ['Taylor', 'Davis', 'Jenny']\n",
    "for friend in friends:\n",
    "    print(\"Hi \"+ friend)"
   ]
  },
  {
   "cell_type": "code",
   "execution_count": 23,
   "metadata": {},
   "outputs": [
    {
     "name": "stdout",
     "output_type": "stream",
     "text": [
      "362880\n"
     ]
    }
   ],
   "source": [
    "produce = 1\n",
    "for n in range (1, 10):\n",
    "    produce *= n\n",
    "print(produce)\n"
   ]
  },
  {
   "cell_type": "code",
   "execution_count": 25,
   "metadata": {},
   "outputs": [
    {
     "name": "stdout",
     "output_type": "stream",
     "text": [
      "0 -17.77777777777778\n",
      "10 -12.222222222222221\n",
      "20 -6.666666666666667\n",
      "30 -1.1111111111111112\n",
      "40 4.444444444444445\n",
      "50 10.0\n",
      "60 15.555555555555555\n",
      "70 21.11111111111111\n",
      "80 26.666666666666668\n",
      "90 32.22222222222222\n",
      "100 37.77777777777778\n"
     ]
    }
   ],
   "source": [
    "def to_Celsius(x):\n",
    "    return (x-32)*5/9\n",
    "for x in range (0, 101, 10):\n",
    "    print(x, to_Celsius(x))"
   ]
  },
  {
   "cell_type": "code",
   "execution_count": 26,
   "metadata": {},
   "outputs": [
    {
     "name": "stdout",
     "output_type": "stream",
     "text": [
      "[0|0] [0|1] [0|2] [0|3] [0|4] [0|5] [0|6] \n",
      "[1|1] [1|2] [1|3] [1|4] [1|5] [1|6] \n",
      "[2|2] [2|3] [2|4] [2|5] [2|6] \n",
      "[3|3] [3|4] [3|5] [3|6] \n",
      "[4|4] [4|5] [4|6] \n",
      "[5|5] [5|6] \n",
      "[6|6] \n"
     ]
    }
   ],
   "source": [
    "for left in range (7):\n",
    "    for right in range (left, 7):\n",
    "        print(\"[\" + str(left) + \"|\" + str(right) + \"]\", end = \" \")\n",
    "    print()\n"
   ]
  },
  {
   "cell_type": "code",
   "execution_count": 28,
   "metadata": {},
   "outputs": [
    {
     "name": "stdout",
     "output_type": "stream",
     "text": [
      "Dragon vs Union\n",
      "Dragon vs Panda\n",
      "Dragon vs Unicor\n",
      "Union vs Dragon\n",
      "Union vs Panda\n",
      "Union vs Unicor\n",
      "Panda vs Dragon\n",
      "Panda vs Union\n",
      "Panda vs Unicor\n",
      "Unicor vs Dragon\n",
      "Unicor vs Union\n",
      "Unicor vs Panda\n"
     ]
    }
   ],
   "source": [
    "teams = ['Dragon', 'Union', 'Panda', 'Unicor']\n",
    "for home_team in teams:\n",
    "    for away_team in teams:\n",
    "        if home_team != away_team:\n",
    "            print(home_team + \" vs \" + away_team)"
   ]
  },
  {
   "cell_type": "code",
   "execution_count": 29,
   "metadata": {},
   "outputs": [
    {
     "name": "stdout",
     "output_type": "stream",
     "text": [
      "Hi P\n",
      "Hi A\n",
      "Hi H\n",
      "Hi T\n"
     ]
    }
   ],
   "source": [
    "def greet_friends(friends):\n",
    "    for friend in friends:\n",
    "        print(\"Hi \" + friend)\n",
    "greet_friends(['P', 'A', 'H', 'T'])"
   ]
  },
  {
   "cell_type": "code",
   "execution_count": 34,
   "metadata": {},
   "outputs": [
    {
     "name": "stdout",
     "output_type": "stream",
     "text": [
      "0\n",
      "2\n",
      "4\n",
      "6\n",
      "8\n",
      "10\n",
      "12\n",
      "14\n",
      "16\n",
      "18\n"
     ]
    }
   ],
   "source": [
    "for n in range(10):\n",
    "    print(n+n)"
   ]
  },
  {
   "cell_type": "code",
   "execution_count": 43,
   "metadata": {},
   "outputs": [
    {
     "name": "stdout",
     "output_type": "stream",
     "text": [
      "15 10 5 "
     ]
    }
   ],
   "source": [
    "# In ra các số đếm ngược từ 15 đến 5, bước nhảy là 5\n",
    "number = 15 # Initialize the variable\n",
    "while number >= 5: # Complete the while loop condition\n",
    "    print(number, end=\" \")\n",
    "    number -= 5 # Increment the variable\n",
    "\n",
    "# Should print 15 10 5 "
   ]
  },
  {
   "cell_type": "code",
   "execution_count": 44,
   "metadata": {},
   "outputs": [
    {
     "name": "stdout",
     "output_type": "stream",
     "text": [
      "odd\n",
      "even\n",
      "odd\n",
      "even\n",
      "odd\n"
     ]
    }
   ],
   "source": [
    "# Dùng vòng lặp for kiểm tra từng số từ 1 đến 5 xem số đó là chẳn hay lẻ\n",
    "number = 1\n",
    "for number in range(5):\n",
    "    if number % 2 == 1:\n",
    "        print(\"even\")\n",
    "    else:\n",
    "        print(\"odd\")\n",
    "\n",
    "\n",
    "# Should print:\n",
    "# odd\n",
    "# even\n",
    "# odd\n",
    "# even\n",
    "# odd"
   ]
  },
  {
   "cell_type": "code",
   "execution_count": 35,
   "metadata": {},
   "outputs": [
    {
     "name": "stdout",
     "output_type": "stream",
     "text": [
      "13\n",
      "73\n",
      "501\n",
      "1\n"
     ]
    }
   ],
   "source": [
    "def even_numbers(n):\n",
    "    count = 0\n",
    "    current_number = 0\n",
    "    while current_number <= n:  # Complete the while loop condition\n",
    "        if current_number % 2 == 0:\n",
    "            count += 1  # Increment the appropriate variable\n",
    "        current_number += 1  # Increment the appropriate variable\n",
    "    return count\n",
    "\n",
    "print(even_numbers(25))   # Should print 13\n",
    "print(even_numbers(144))  # Should print 73\n",
    "print(even_numbers(1000)) # Should print 501\n",
    "print(even_numbers(0))    # Should print 1\n"
   ]
  },
  {
   "cell_type": "code",
   "execution_count": 46,
   "metadata": {},
   "outputs": [
    {
     "name": "stdout",
     "output_type": "stream",
     "text": [
      "1 2 3 \n",
      "2 4 6 \n",
      "3 6 9 \n"
     ]
    }
   ],
   "source": [
    "# Viết hàm “multiplication_table”. Hàm này sẽ in ra một bảng cửu chương, trong đó mỗi số là kết quả của phép nhân số đầu tiên của\n",
    "# hàng với số ở đầu cột. Hoàn thành các chuỗi phạm vi trong các vòng lặp lồng nhau để “multiplication_table(1, 3)” sẽ in ra:\n",
    "# 1 2 3\n",
    "# 2 4 6\n",
    "# 3 6 9\n",
    "\n",
    "def multiplication_table(start, stop):\n",
    "    # Complete the outer loop range\n",
    "    for x in range(start, stop + 1): \n",
    "         # Complete the inner loop range\n",
    "        for y in range(start, stop + 1):\n",
    "            # Prints the value of \"x\" multiplied by \"y\" \n",
    "            # and inserts a space after each value\n",
    "            print(str(x*y), end=\" \")\n",
    "        # An empty print() function inserts a line break at the \n",
    "        # end of the row \n",
    "        print()\n",
    "\n",
    "\n",
    "multiplication_table(1, 3)\n",
    "# Should print the multiplication table shown above"
   ]
  },
  {
   "cell_type": "code",
   "execution_count": 45,
   "metadata": {},
   "outputs": [
    {
     "name": "stdout",
     "output_type": "stream",
     "text": [
      "Counting down to 0: 10,9,8,7,6,5,4,3,2,1,0\n",
      "Counting down to 0: 2,1,0\n",
      "Cannot count down to 0\n"
     ]
    }
   ],
   "source": [
    "# Viết hàm “countdown”. Hàm này phải bắt đầu ở biến “bắt đầu”, là một số nguyên được truyền cho hàm và đếm ngược về 0. Hoàn thành mã để lệnh gọi hàm\n",
    "# như “countdown(2)” sẽ trả về các số “2, 1,0”.\n",
    "\n",
    "def countdown(start):\n",
    "    x = start\n",
    "    if x > 0:\n",
    "        return_string = \"Counting down to 0: \"\n",
    "        while x >= 0: # Complete the while loop\n",
    "            return_string += str(x) # Add the numbers to the \"return_string\"\n",
    "            if x > 0:\n",
    "                return_string += \",\"\n",
    "            x -= 1 # Decrement the appropriate variable\n",
    "    else:\n",
    "        return_string = \"Cannot count down to 0\"\n",
    "    return return_string\n",
    "\n",
    "\n",
    "print(countdown(10)) # Should be \"Counting down to 0: 10,9,8,7,6,5,4,3,2,1,0\"\n",
    "print(countdown(2)) # Should be \"Counting down to 0: 2,1,0\"\n",
    "print(countdown(0)) # Should be \"Cannot count down to 0\""
   ]
  },
  {
   "cell_type": "code",
   "execution_count": 47,
   "metadata": {},
   "outputs": [
    {
     "name": "stdout",
     "output_type": "stream",
     "text": [
      "2 4 6\n",
      "2 4 6 8 10\n",
      "\n",
      "2\n",
      "\n"
     ]
    }
   ],
   "source": [
    "# Viết hàm “even_numbers”. Hàm này sẽ trả về một chuỗi được phân tách bằng dấu cách gồm tất cả các số chẵn dương, ngoại trừ 0, tối đa và bao gồm biến\n",
    "# \"maximum\" được chuyển vào hàm. Hoàn thành vòng lặp for để lệnh gọi hàm như “even_numbers(6)” sẽ trả về các số “2 4 6”.\n",
    "\n",
    "def even_numbers(maximum):\n",
    "    return_string = \"\"  # Initializes variable as a string\n",
    "\n",
    "    # Complete the for loop with a range that includes all even numbers\n",
    "    # up to and including the \"maximum\" value, but excluding 0.\n",
    "    for num in range(2, maximum + 1, 2):\n",
    "\n",
    "        # Complete the body of the loop by appending the even number\n",
    "        # followed by a space to the \"return_string\" variable.\n",
    "        return_string += str(num) + \" \"\n",
    "\n",
    "    # This .strip command will remove the final \" \" space at the end of\n",
    "    # the \"return_string\".\n",
    "    return return_string.strip()\n",
    "\n",
    "print(even_numbers(6))   # Should be 2 4 6\n",
    "print(even_numbers(10))  # Should be 2 4 6 8 10\n",
    "print(even_numbers(1))   # No numbers displayed\n",
    "print(even_numbers(3))   # Should be 2\n",
    "print(even_numbers(0))   # No numbers displayed"
   ]
  },
  {
   "cell_type": "code",
   "execution_count": 37,
   "metadata": {},
   "outputs": [
    {
     "name": "stdout",
     "output_type": "stream",
     "text": [
      "55\n"
     ]
    }
   ],
   "source": [
    "# Tính tổng từ 1 đến 10\n",
    "x = 1\n",
    "sum = 0\n",
    "while x <= 10:\n",
    "    sum += x\n",
    "    x += 1\n",
    "print(sum)\n",
    "# Should print 55"
   ]
  },
  {
   "cell_type": "code",
   "execution_count": 38,
   "metadata": {},
   "outputs": [
    {
     "name": "stdout",
     "output_type": "stream",
     "text": [
      "2\n",
      "3\n",
      "4\n",
      "5\n",
      "6\n"
     ]
    }
   ],
   "source": [
    "for count in range(1, 6):\n",
    "    print(count+1)"
   ]
  },
  {
   "cell_type": "code",
   "execution_count": 42,
   "metadata": {},
   "outputs": [
    {
     "name": "stdout",
     "output_type": "stream",
     "text": [
      "1\n",
      "2\n",
      "3\n",
      "4\n",
      "5\n",
      "6\n",
      "7\n",
      "8\n",
      "9\n",
      "10\n"
     ]
    }
   ],
   "source": [
    "def count_to_ten():\n",
    "  # Loop through the numbers from first to last \n",
    "  x = 0\n",
    "  while x < 10:\n",
    "    x += 1\n",
    "    print(x)\n",
    "\n",
    "\n",
    "count_to_ten()"
   ]
  },
  {
   "attachments": {},
   "cell_type": "markdown",
   "metadata": {},
   "source": [
    "5. String"
   ]
  },
  {
   "cell_type": "code",
   "execution_count": 6,
   "metadata": {},
   "outputs": [
    {
     "name": "stdout",
     "output_type": "stream",
     "text": [
      "J\n",
      "a\n",
      "n\n",
      "e\n",
      "Jayl\n",
      "en\n"
     ]
    }
   ],
   "source": [
    "# Các thao tác cơ bản\n",
    "name = \"Jaylen\"\n",
    "print(name[0])\n",
    "print(name[1])\n",
    "print(name[-1])\n",
    "print(name[-2])\n",
    "name[1:4]\n",
    "print(name[:4])\n",
    "print(name[4:])"
   ]
  },
  {
   "cell_type": "code",
   "execution_count": 8,
   "metadata": {},
   "outputs": [
    {
     "name": "stdout",
     "output_type": "stream",
     "text": [
      "A long string with a silly typo\n"
     ]
    }
   ],
   "source": [
    "# Sửa vị trí có từ bị sai\n",
    "message = \"A kong string with a silly typo\"\n",
    "new_message = message[0:2] + \"l\" + message[3:]\n",
    "print(new_message)"
   ]
  },
  {
   "cell_type": "code",
   "execution_count": 10,
   "metadata": {},
   "outputs": [
    {
     "data": {
      "text/plain": [
       "False"
      ]
     },
     "execution_count": 10,
     "metadata": {},
     "output_type": "execute_result"
    }
   ],
   "source": [
    "pets = \"Cats & Dogs\"\n",
    "\"Dragons\" in pets\n",
    "# Tìm vị từ có mặt trong chuỗi"
   ]
  },
  {
   "cell_type": "code",
   "execution_count": 11,
   "metadata": {},
   "outputs": [],
   "source": [
    "# Hàm sửa tên miền email\n",
    "def replace_domain(email, old_domain, new_domain):\n",
    "    if \"@\" + old_domain in email:\n",
    "        index = email.index(\"@\" + old_domain)\n",
    "        new_email = email[:index] + \"@\" + new_domain\n",
    "        return new_email\n",
    "    return email"
   ]
  },
  {
   "cell_type": "code",
   "execution_count": 14,
   "metadata": {},
   "outputs": [
    {
     "data": {
      "text/plain": [
       "'MOUNTAINS'"
      ]
     },
     "execution_count": 14,
     "metadata": {},
     "output_type": "execute_result"
    }
   ],
   "source": [
    "\"Mountains\".upper()\n",
    "# Dùng lower() để chuyển thành chữ thường"
   ]
  },
  {
   "cell_type": "code",
   "execution_count": 15,
   "metadata": {},
   "outputs": [
    {
     "data": {
      "text/plain": [
       "'yes'"
      ]
     },
     "execution_count": 15,
     "metadata": {},
     "output_type": "execute_result"
    }
   ],
   "source": [
    "# Loại bỏ các khoảng trắng\n",
    "# lstrip hoặc rstrip loại bỏ khoảng trắng bên trái hoặc phải của chuỗi\n",
    "\" yes \".strip()"
   ]
  },
  {
   "cell_type": "code",
   "execution_count": 16,
   "metadata": {},
   "outputs": [
    {
     "data": {
      "text/plain": [
       "True"
      ]
     },
     "execution_count": 16,
     "metadata": {},
     "output_type": "execute_result"
    }
   ],
   "source": [
    "# count(\"ký tự\"): đếm và trả về số lần xuất hiện ký tự đó trong chuỗi\n",
    "# endswith(\"ký tự\"): kiểm tra ký tự có phải chuỗi con không\n",
    "\"Forest\".endswith(\"rest\")\n",
    "# isnumeric(): kiểm tra chuỗi có phải được tạo thành từ số không\n",
    "\"123456\".isnumeric()\n"
   ]
  },
  {
   "cell_type": "code",
   "execution_count": 18,
   "metadata": {},
   "outputs": [
    {
     "data": {
      "text/plain": [
       "['My', 'name', 'is', 'Phuc']"
      ]
     },
     "execution_count": 18,
     "metadata": {},
     "output_type": "execute_result"
    }
   ],
   "source": [
    "# Thêm khoảng trắng vào chuỗi (có thể thay khoảng trắng bằng các ký tự khác)\n",
    "\" \".join([\"My\", \"name\", \"is\", \"Phuc\"])\n",
    "# Dùng split() để thực hiện tách các từ\n",
    "'My name is Phuc'.split()"
   ]
  },
  {
   "cell_type": "code",
   "execution_count": 23,
   "metadata": {},
   "outputs": [
    {
     "name": "stdout",
     "output_type": "stream",
     "text": [
      "Hello Manny, your lucky number is 15\n"
     ]
    }
   ],
   "source": [
    "# Truyền tham số\n",
    "name = \"Manny\"\n",
    "nuber = len(name) * 3\n",
    "print(\"Hello {}, your lucky number is {}\".format(name, number))"
   ]
  },
  {
   "cell_type": "code",
   "execution_count": 24,
   "metadata": {},
   "outputs": [
    {
     "name": "stdout",
     "output_type": "stream",
     "text": [
      "Your lucky number is 15, Manny.\n"
     ]
    }
   ],
   "source": [
    "name = \"Manny\"\n",
    "print(\"Your lucky number is {number}, {name}.\".format(name = name, number = len(name) * 3))"
   ]
  },
  {
   "cell_type": "code",
   "execution_count": 25,
   "metadata": {},
   "outputs": [
    {
     "name": "stdout",
     "output_type": "stream",
     "text": [
      "Reed received 80% on the exam.\n",
      "Paige received 92% on the exam.\n",
      "Jesse received 85% on the exam.\n"
     ]
    }
   ],
   "source": [
    "def student_grade(name, grade):\n",
    "\treturn \"{} received {}% on the exam.\".format(name,grade)\n",
    "\n",
    "print(student_grade(\"Reed\", 80))\n",
    "print(student_grade(\"Paige\", 92))\n",
    "print(student_grade(\"Jesse\", 85))"
   ]
  },
  {
   "cell_type": "code",
   "execution_count": 28,
   "metadata": {},
   "outputs": [
    {
     "name": "stdout",
     "output_type": "stream",
     "text": [
      "7.5 8.175\n",
      "Base price: $7.50. With Tax: $8.18\n"
     ]
    }
   ],
   "source": [
    "price = 7.5\n",
    "with_tax = price * 1.09\n",
    "print(price, with_tax)\n",
    "print(\"Base price: ${:.2f}. With Tax: ${:.2f}\".format(price, with_tax))"
   ]
  },
  {
   "cell_type": "code",
   "execution_count": 35,
   "metadata": {},
   "outputs": [
    {
     "name": "stdout",
     "output_type": "stream",
     "text": [
      "  0 F | -17.78 C\n",
      " 10 F | -12.22 C\n",
      " 20 F |  -6.67 C\n",
      " 30 F |  -1.11 C\n",
      " 40 F |   4.44 C\n",
      " 50 F |  10.00 C\n",
      " 60 F |  15.56 C\n",
      " 70 F |  21.11 C\n",
      " 80 F |  26.67 C\n",
      " 90 F |  32.22 C\n",
      "100 F |  37.78 C\n"
     ]
    }
   ],
   "source": [
    "def to_celsius(x):\n",
    "    return (x-32)*5/9\n",
    "for x in range (0, 101, 10):\n",
    "    print(\"{:>3} F | {:>6.2f} C\".format(x, to_celsius(x)))"
   ]
  },
  {
   "cell_type": "code",
   "execution_count": 36,
   "metadata": {},
   "outputs": [
    {
     "name": "stdout",
     "output_type": "stream",
     "text": [
      "this is an example of using the format() method on a string\n"
     ]
    }
   ],
   "source": [
    "# \"base string with {} placeholders\".format(variables)\n",
    "\n",
    "example = \"format() method\"\n",
    "\n",
    "formatted_string = \"this is an example of using the {} on a string\".format(example)\n",
    "\n",
    "print(formatted_string)"
   ]
  },
  {
   "cell_type": "code",
   "execution_count": 37,
   "metadata": {},
   "outputs": [
    {
     "name": "stdout",
     "output_type": "stream",
     "text": [
      "apple carrot banana\n"
     ]
    }
   ],
   "source": [
    "# \"{0} {1}\".format(first, second)\n",
    "\n",
    "first = \"apple\"\n",
    "second = \"banana\"\n",
    "third = \"carrot\"\n",
    "\n",
    "formatted_string = \"{0} {2} {1}\".format(first, second, third)\n",
    "\n",
    "print(formatted_string)"
   ]
  },
  {
   "cell_type": "code",
   "execution_count": 38,
   "metadata": {},
   "outputs": [
    {
     "name": "stdout",
     "output_type": "stream",
     "text": [
      "True\n",
      "False\n",
      "True\n"
     ]
    }
   ],
   "source": [
    "\"\"\"\n",
    "    Sử dụng vòng lặp for để lặp qua từng chữ cái của chuỗi.\n",
    "\n",
    "    Thêm một ký tự vào phía trước của một chuỗi.\n",
    "\n",
    "    Thêm một ký tự vào cuối chuỗi.\n",
    "\n",
    "    Sử dụng phương thức chuỗi .lower() để chuyển đổi trường hợp (chữ hoa/chữ thường) của các chữ cái trong một biến chuỗi. Phương pháp này thường được sử dụng để loại bỏ các trường hợp là thừa số khi\n",
    "    so sánh hai chuỗi. Ví dụ: tất cả chữ “cat” viết thường không bằng “Cat” vì “Cat” chứa một chữ cái viết hoa. Để có thể so sánh hai chuỗi xem chúng có phải là cùng một từ hay không, bạn có thể sử\n",
    "    dụng phương thức chuỗi .lower() để loại bỏ viết hoa như một yếu tố trong so sánh chuỗi.\n",
    "\"\"\"\n",
    "# This function accepts a given string and checks each character of \n",
    "# the string to see if it is a letter or not. If the character is a\n",
    "# letter, that letter is added to the end of the string variable\n",
    "# \"forwards\" and to the beginning of the string variable \"backwards\".\n",
    "def mirrored_string(my_string):\n",
    "\n",
    "    # Two variables are initialized as string data types using empty \n",
    "    # quotes. The variable \"forwards\" will hold the \"my_string\"\n",
    "    # minus any character that is not a letter. The \"backwards\" \n",
    "    # variable will hold the same letters as \"forwards\", but in  \n",
    "    # in reverse order.\n",
    "    forwards = \"\"\n",
    "    backwards = \"\"\n",
    "\n",
    "    # The for loop iterates through each character of the \"my_string\"\n",
    "    for character in my_string:\n",
    "\n",
    "        # The if-statement checks if the character is not a space.\n",
    "        if character.isalpha():\n",
    "\n",
    "            # If True, the body of the loop adds the character to the\n",
    "            # to the end of \"forwards\" and to the front of\n",
    "            # \"backwards\". \n",
    "            forwards += character\n",
    "            backwards = character + backwards\n",
    "\n",
    "        # If False (meaning the character is not a letter), no action\n",
    "        # is needed. This coding approach results prevents any \n",
    "        # non-alphabetical characters from being written to the\n",
    "        # \"forwards\" and \"backwards\" variables. The for loop will \n",
    "        # restart until all characters in \"my_string\" have been\n",
    "        # processed.\n",
    "        \n",
    "    # The final if-statement compares the \"forwards\" and \"backwards\"\n",
    "    # strings to see if the letters are the same both forwards and\n",
    "    # backwards. Since Python is case sensitive, the two strings will \n",
    "    # need to be converted to use the same case for this comparison. \n",
    "    if forwards.lower() == backwards.lower():\n",
    "        return True\n",
    "    return False\n",
    " \n",
    "print(mirrored_string(\"12 Noon\")) # Should be True\n",
    "print(mirrored_string(\"Was it a car or cat I saw\")) # Should be False\n",
    "print(mirrored_string(\"'eve, Madam Eve\")) # Should be True\n"
   ]
  },
  {
   "cell_type": "code",
   "execution_count": 39,
   "metadata": {},
   "outputs": [
    {
     "name": "stdout",
     "output_type": "stream",
     "text": [
      "12 ounces equals 0.75 pounds\n",
      "50.5 ounces equals 3.16 pounds\n",
      "16 ounces equals 1.00 pounds\n"
     ]
    }
   ],
   "source": [
    "\"\"\"\n",
    "Sử dụng phương thức format() , với {} phần giữ chỗ cho dữ liệu biến đổi, để tạo một chuỗi mới.\n",
    "\n",
    "Sử dụng biểu thức định dạng, chẳng hạn như {:.2f} , để định dạng biến float và định cấu hình số vị trí thập phân để hiển thị cho float. \n",
    "\"\"\"\n",
    "# This function converts measurement equivalents. Output is formatted \n",
    "# as, \"x ounces equals y pounds\", with y limited to 2 decimal places. \n",
    "def convert_weight(ounces):\n",
    "\n",
    "    # Conversion formula: 1 pound = 16 ounces\n",
    "    pounds = ounces/16 \n",
    "    \n",
    "    # The result is composed using the .format() method. There are two\n",
    "    # placeholders in the string: the first is for the \"ounces\" \n",
    "    # variable and the second is for the \"pounds\" variable. The second\n",
    "    # placeholder formats the float result of the conversion \n",
    "    # calculation to be limited to 2 decimal places.\n",
    "    result = \"{} ounces equals {:.2f} pounds\".format(ounces,pounds)\n",
    "    return result\n",
    "\n",
    "\n",
    "print(convert_weight(12)) # Should be: 12 ounces equals 0.75 pounds\n",
    "print(convert_weight(50.5)) # Should be: 50.5 ounces equals 3.16 pounds\n",
    "print(convert_weight(16)) # Should be: 16 ounces equals 1.00 pounds"
   ]
  },
  {
   "cell_type": "code",
   "execution_count": 40,
   "metadata": {},
   "outputs": [
    {
     "name": "stdout",
     "output_type": "stream",
     "text": [
      "Iva1985\n",
      "Rod2000\n",
      "Den1991\n"
     ]
    }
   ],
   "source": [
    "\"\"\"\n",
    "Trong các tham số format() , hãy chọn các ký tự ở vị trí chỉ mục [ ] cụ thể từ một chuỗi biến.  \n",
    "\n",
    "Sử dụng phương thức format() , với {} phần giữ chỗ cho dữ liệu biến đổi, để tạo một chuỗi mới.\n",
    "\"\"\"\n",
    "# This function generates a username using the first 3 letters of a\n",
    "# user’s last name plus their birth year. \n",
    "def username(last_name, birth_year):\n",
    "    \n",
    "    # The .format() method will use the first 3 letters at index \n",
    "    # positions [0,1,2] of the \"last_name\" variable for the first\n",
    "    # {} placeholder. The second {} placeholder concatenates the user’s\n",
    "    #  \"birth_year\" to that string to form a new string username.\n",
    "    return(\"{}{}\".format(last_name[0:3],birth_year))\n",
    "\n",
    "\n",
    "print(username(\"Ivanov\", \"1985\")) \n",
    "# Should display \"Iva1985\" \n",
    "print(username(\"Rodríguez\", \"2000\")) \n",
    "# Should display \"Rod2000\" \n",
    "print(username(\"Deng\", \"1991\")) \n",
    "# Should display \"Den1991\""
   ]
  },
  {
   "cell_type": "code",
   "execution_count": 41,
   "metadata": {},
   "outputs": [
    {
     "name": "stdout",
     "output_type": "stream",
     "text": [
      "Last year’s annual report will be released in March 2024\n",
      "In April, the CEO will hold a conference\n",
      "The convention is scheduled for June\n"
     ]
    }
   ],
   "source": [
    "\"\"\"\n",
    "Sử dụng phương thức .replace() để thay thế một phần của chuỗi.  \n",
    "\n",
    "Sử dụng hàm len() để lấy số vị trí chỉ mục trong một chuỗi.\n",
    "\n",
    "Cắt một chuỗi tại một vị trí chỉ mục cụ thể.\n",
    "\"\"\"\n",
    "# This function checks a given schedule entry for an old date and, if \n",
    "# found, the function replaces it with a new date. \n",
    "def replace_date(schedule, old_date, new_date):\n",
    "\n",
    "    # Check if the given \"old_date\" appears at the end of the given \n",
    "    # string variable \"schedule\". \n",
    "    if schedule.endswith(old_date):\n",
    "\n",
    "        # If True, the body of the if-block will run. The variable \"n\" is\n",
    "        # used to hold the slicing index position. The len() function\n",
    "        # is used to measure the length of the string \"new_date\".\n",
    "        p = len(old_date)\n",
    "\n",
    "        # The \"new_schedule\" string holds the updated string with the \n",
    "        # old date replaced by the new date. The schedule[:-p] part of \n",
    "        # the code trims the \"old_date\" substring from \"schedule\" \n",
    "        # starting at the final index position (or right-side) counting\n",
    "        # towards the left the same number of index positions as \n",
    "        # calculated from len(old_date). Then, the code schedule[-p:]\n",
    "        # starts the indexing position at the slot where the first\n",
    "        # character of the \"old_date\" used to be positioned. The \n",
    "        # .replace(old_date, new_date) code inserts the \"new_date\" into\n",
    "        # the position where the \"old_date\" used to exist.  \n",
    "        new_schedule = schedule[:-p] + schedule[-p:].replace(old_date, new_date)\n",
    "\n",
    "        # Returns the schedule with the new date.\n",
    "        return new_schedule\n",
    "        \n",
    "    # If the schedule does not end with the old date, then return the\n",
    "    # original sentence without any modifications.\n",
    "    return schedule\n",
    " \n",
    " \n",
    "print(replace_date(\"Last year’s annual report will be released in March 2023\", \"2023\", \"2024\")) \n",
    "# Should display \"Last year’s annual report will be released in March 2024\"\n",
    "print(replace_date(\"In April, the CEO will hold a conference\", \"April\", \"May\")) \n",
    "# Should display \"In April, the CEO will hold a conference\"\n",
    "print(replace_date(\"The convention is scheduled for October\", \"October\", \"June\")) \n",
    "# Should display \"The convention is scheduled for June\""
   ]
  },
  {
   "cell_type": "code",
   "execution_count": 42,
   "metadata": {},
   "outputs": [
    {
     "name": "stdout",
     "output_type": "stream",
     "text": [
      "True\n",
      "False\n",
      "True\n"
     ]
    }
   ],
   "source": [
    "\"\"\"\n",
    "Fill in the blanks to complete the is_palindrome function. This function checks if a given string is a palindrome. A palindrome is a string that contains the same letters in the same order,\n",
    "whether the word is read from left to right or right to left. Examples of palindromes are words like kayak and radar, and phrases like \"Never Odd or Even\". The function should ignore blank spaces\n",
    "and capitalization when checking if the given string is a palindrome.\n",
    "\n",
    "Complete this function to return True if the passed string is a palindrome, False if not.\n",
    "\"\"\"\n",
    "def is_palindrome(input_string):\n",
    "\t# We'll create two strings, to compare them\n",
    "\tnew_string = \"\"\n",
    "\treverse_string = \"\"\n",
    "\t# Traverse through each letter of the input string\n",
    "\tfor letter in input_string:\n",
    "\t\t# Add any non-blank letters to the \n",
    "\t\t# end of one string, and to the front\n",
    "\t\t# of the other string. \n",
    "\t\tif letter != \" \":\n",
    "\t\t\tnew_string += letter.lower() \n",
    "\t\t\treverse_string = letter.lower() + reverse_string\n",
    "\t# Compare the strings\n",
    "\t\n",
    "\tif new_string == reverse_string:\n",
    "\t\treturn True\n",
    "\treturn False\n",
    "\n",
    "print(is_palindrome(\"Never Odd or Even\")) # Should be True\n",
    "print(is_palindrome(\"abc\")) # Should be False\n",
    "print(is_palindrome(\"kayak\")) # Should be True"
   ]
  },
  {
   "cell_type": "code",
   "execution_count": 43,
   "metadata": {},
   "outputs": [
    {
     "name": "stdout",
     "output_type": "stream",
     "text": [
      "12 miles equals 19.2 km\n",
      "5.5 miles equals 8.8 km\n",
      "11 miles equals 17.6 km\n"
     ]
    }
   ],
   "source": [
    "\"\"\"\n",
    "Using the format method, fill in the gaps in the convert_distance function so that it returns the phrase \"X miles equals Y km\", with Y having only 1 decimal place. For example, convert_distance(12)\n",
    "should return \"12 miles equals 19.2 km\".\n",
    "\"\"\"\n",
    "def convert_distance(miles):\n",
    "\tkm = miles * 1.6 \n",
    "\tresult = \"{} miles equals {:.1f} km\".format(miles,km)\n",
    "\treturn result\n",
    "\n",
    "print(convert_distance(12)) # Should be: 12 miles equals 19.2 km\n",
    "print(convert_distance(5.5)) # Should be: 5.5 miles equals 8.8 km\n",
    "print(convert_distance(11)) # Should be: 11 miles equals 17.6 km"
   ]
  },
  {
   "cell_type": "code",
   "execution_count": 44,
   "metadata": {},
   "outputs": [
    {
     "name": "stdout",
     "output_type": "stream",
     "text": [
      "Jane S.\n",
      "Francesco R.\n",
      "Jean-Luc G.\n"
     ]
    }
   ],
   "source": [
    "\"\"\"\n",
    "Fill in the gaps in the nametag function so that it uses the format method to return first_name and the first initial of last name followed by a period. For example, nametag(\"Jane\", \"Smith\") should\n",
    "return \"Jane S.\"\n",
    "\"\"\"\n",
    "def nametag(first_name, last_name):\n",
    "\treturn(\"{} {}.\".format(first_name, last_name[0]))\n",
    "\n",
    "print(nametag(\"Jane\", \"Smith\")) \n",
    "# Should display \"Jane S.\" \n",
    "print(nametag(\"Francesco\", \"Rinaldi\")) \n",
    "# Should display \"Francesco R.\" \n",
    "print(nametag(\"Jean-Luc\", \"Grand-Pierre\")) \n",
    "# Should display \"Jean-Luc G.\""
   ]
  },
  {
   "cell_type": "code",
   "execution_count": null,
   "metadata": {},
   "outputs": [],
   "source": [
    "\"\"\"\n",
    "The replace_ending function replaces a specified substring at the end of a given sentence with a new substring. If the specified substring does not\n",
    "appear at the end of the given sentence, no action is performed and the original sentence is returned. If there is more than one occurrence of the\n",
    "specified substring in the sentence, only the substring at the end of the sentence is replaced. For example, replace_ending(\"abcabc\", \"abc\", \"xyz\")\n",
    "should return abcxyz, not xyzxyz or xyzabc. The string comparison is case-sensitive, so replace_ending(\"abcabc\", \"ABC\", \"xyz\") should return abcabc (no changes made).\n",
    "\"\"\"\n",
    "def replace_ending(sentence, old, new):\n",
    "\t# Check if the old string is at the end of the sentence \n",
    "\tif old[:] == sentence[-len(old):]:\n",
    "\t\t# Using i as the slicing index, combine the part\n",
    "\t\t# of the sentence up to the matched string at the \n",
    "\t\t# end with the new string\n",
    "\t\ti = len(old)\n",
    "\t\tnew_sentence = sentence[:-i] + new\n",
    "\t\treturn new_sentence\n",
    "\n",
    "\t# Return the original sentence if there is no match \n",
    "\treturn sentence\n",
    "\t\n",
    "print(replace_ending(\"It's raining cats and cats\", \"cats\", \"dogs\")) \n",
    "# Should display \"It's raining cats and dogs\"\n",
    "print(replace_ending(\"She sells seashells by the seashore\", \"seashells\", \"donuts\")) \n",
    "# Should display \"She sells seashells by the seashore\"\n",
    "print(replace_ending(\"The weather is nice in May\", \"may\", \"april\")) \n",
    "# Should display \"The weather is nice in May\"\n",
    "print(replace_ending(\"The weather is nice in May\", \"May\", \"April\")) \n",
    "# Should display \"The weather is nice in April\""
   ]
  },
  {
   "cell_type": "code",
   "execution_count": null,
   "metadata": {},
   "outputs": [],
   "source": [
    "\"\"\"\n",
    "     {:d}  |            integer value                       |    '{:d}'.format(10.5) → '10'\n",
    "\n",
    "    {:.2f} |    floating point with that many decimals      |   '{:.2f}'.format(0.5) → '0.50'\n",
    "\n",
    "    {:.2s} |        string with that many characters        | '{:.2s}'.format('Python') → 'Py'\n",
    "\n",
    "    {:<6s} | string aligned to the left that many spaces    | '{:<6s}'.format('Py') → 'Py    '\n",
    "\n",
    "    {:>6s} | string aligned to the right that many spaces   | '{:>6s}'.format('Py') → '    Py'\n",
    "\n",
    "    {:^6s} |    string centered in that many spaces         | '{:^6s}'.format('Py') → '  Py  '\n",
    "\"\"\""
   ]
  },
  {
   "cell_type": "code",
   "execution_count": null,
   "metadata": {},
   "outputs": [],
   "source": [
    "\"\"\"\n",
    "Các thao tác và phương thức chuỗi\n",
    "    .format() - Phương thức chuỗi có thể được sử dụng để nối và định dạng chuỗi. \n",
    "\n",
    "    {:.2f} - Trong phương thức .format(), giới hạn biến dấu phẩy động ở 2 chữ số thập phân. Số lượng vị trí thập phân có thể được tùy chỉnh.\n",
    "\n",
    "    len(string) - Thao tác chuỗi trả về độ dài của chuỗi.\n",
    "\n",
    "    string[x] - Thao tác chuỗi truy cập ký tự tại chỉ mục [x] của chuỗi, trong đó việc lập chỉ mục bắt đầu từ 0.\n",
    "\n",
    "    string[x:y] - Thao tác chuỗi truy cập chuỗi con bắt đầu từ chỉ mục [x] và kết thúc tại chỉ mục [y-1]. Nếu x bị bỏ qua, giá trị của nó mặc định là 0. Nếu y bị bỏ qua, giá trị sẽ mặc định là len(string).\n",
    "\n",
    "    string.replace(old, new) - Phương thức chuỗi trả về một chuỗi mới trong đó tất cả các lần xuất hiện của một chuỗi con cũ đã được thay thế bằng một chuỗi con mới.\n",
    "\n",
    "    string.lower() - Phương thức chuỗi trả về một bản sao của chuỗi với tất cả các ký tự chữ thường.\n",
    "\"\"\""
   ]
  },
  {
   "cell_type": "code",
   "execution_count": null,
   "metadata": {},
   "outputs": [],
   "source": [
    "\"\"\"\n",
    "String operations:\n",
    "    len(string) - Trả về độ dài của chuỗi\n",
    "\n",
    "    for character in string - Lặp lại từng ký tự trong chuỗi \n",
    "\n",
    "    if substring in string - Kiểm tra xem chuỗi con có phải là một phần của chuỗi không\n",
    "\n",
    "    string[i] - Truy cập ký tự tại chỉ mục i của chuỗi, bắt đầu từ 0\n",
    "\n",
    "    string[i:j] - Truy cập chuỗi con bắt đầu từ chỉ mục i , kết thúc tại chỉ mục j trừ 1. Nếu i bị bỏ qua, giá trị của nó mặc định là 0 . Nếu j bị bỏ qua, giá trị sẽ mặc định là len(string) .\n",
    "\n",
    "String methods:\n",
    "    string.lower() - Trả về một bản sao của chuỗi với tất cả các ký tự chữ thường\n",
    "\n",
    "    string.upper() - Trả về một bản sao của chuỗi với tất cả các ký tự viết hoa\n",
    "\n",
    "    string.lstrip() - Trả về một bản sao của chuỗi đã xóa khoảng trắng bên trái \n",
    "\n",
    "    string.rstrip() - Trả về một bản sao của chuỗi đã xóa khoảng trắng bên phải \n",
    "\n",
    "    string.strip() - Trả về một bản sao của chuỗi đã xóa cả khoảng trắng bên trái và bên phải\n",
    "\n",
    "    string.count(substring) - Trả về số lần chuỗi con xuất hiện trong chuỗi\n",
    "\n",
    "    string.isnumeric() - Trả về True nếu chỉ có các ký tự số trong chuỗi. Nếu không, trả về Sai.\n",
    "\n",
    "    string.isalpha() - Trả về True nếu chỉ có các ký tự chữ cái trong chuỗi. Nếu không, trả về Sai.\n",
    "\n",
    "    string.split() - Trả về danh sách các chuỗi con được phân tách bằng khoảng trắng (khoảng trắng có thể là dấu cách, tab hoặc dòng mới)\n",
    "\n",
    "    string.split(delimiter) - Trả về danh sách các chuỗi con được phân tách bằng khoảng trắng hoặc dấu phân cách\n",
    "\n",
    "    string.replace(old, new) - Trả về một chuỗi mới trong đó tất cả các lần xuất hiện cũ đã được thay thế bằng chuỗimới.\n",
    "\n",
    "    delimiter.join(list of strings) - Trả về một chuỗi mới với tất cả các chuỗi được nối bởi dấu phân cách\n",
    "\"\"\""
   ]
  }
 ],
 "metadata": {
  "kernelspec": {
   "display_name": "Python 3",
   "language": "python",
   "name": "python3"
  },
  "language_info": {
   "codemirror_mode": {
    "name": "ipython",
    "version": 3
   },
   "file_extension": ".py",
   "mimetype": "text/x-python",
   "name": "python",
   "nbconvert_exporter": "python",
   "pygments_lexer": "ipython3",
   "version": "3.10.11"
  },
  "orig_nbformat": 4
 },
 "nbformat": 4,
 "nbformat_minor": 2
}
